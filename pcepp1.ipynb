{
 "cells": [
  {
   "cell_type": "markdown",
   "id": "0288f6c8-175e-40bb-adef-023771223bce",
   "metadata": {},
   "source": [
    "#### PCEPP1 preparation"
   ]
  },
  {
   "cell_type": "code",
   "execution_count": null,
   "id": "fed3affe-0f0a-4484-ab9c-d94de41c6574",
   "metadata": {},
   "outputs": [],
   "source": [
    "#A class is a place which binds data with the code\n",
    "\n",
    "class Duck:\n",
    "    counter = 0\n",
    "    species = 'duck' #class variable, metainformation/common infromation shared across all instances\n",
    "    \n",
    "    def __init__(self, height, weight, sex):\n",
    "        #attribute\n",
    "        self.height = height #instance variable\n",
    "        self.weight = weight\n",
    "        self.sex = sex\n",
    "        Duck.counter += 1 #count the number of times an instance is created\n",
    "\n",
    "    #method = callable attribute\n",
    "    def walk(self):\n",
    "        pass\n",
    "\n",
    "    def quack(self):\n",
    "        return print('Quack')"
   ]
  },
  {
   "cell_type": "code",
   "execution_count": null,
   "id": "bdc84baa-a395-40c5-a015-3895bc86fec6",
   "metadata": {},
   "outputs": [],
   "source": [
    "#Instance = physical instantiation of a class\n",
    "duck = Duck(2, 2, 'female')"
   ]
  },
  {
   "cell_type": "code",
   "execution_count": null,
   "id": "eef1b254-8e95-4d1c-8b78-104b3521c2a0",
   "metadata": {},
   "outputs": [],
   "source": [
    "print(duck.height)\n",
    "duck.quack()\n",
    "duck.color = 'red' #instance variables can be added outside the class"
   ]
  },
  {
   "cell_type": "code",
   "execution_count": null,
   "id": "5934696d-c338-4405-92b9-71b919e0b162",
   "metadata": {},
   "outputs": [],
   "source": [
    "print(Duck.species)\n",
    "print(duck.species)"
   ]
  },
  {
   "cell_type": "code",
   "execution_count": null,
   "id": "51c45c51-f114-4c2c-b090-bc27e35c5ce3",
   "metadata": {},
   "outputs": [],
   "source": [
    "#type\n",
    "print(Duck.__class__)\n",
    "print(duck.__class__)\n",
    "print(duck.color.__class__)\n",
    "print(duck.quack.__class__)"
   ]
  },
  {
   "cell_type": "code",
   "execution_count": null,
   "id": "0644dc79-162d-4441-815a-72b159281bc9",
   "metadata": {},
   "outputs": [],
   "source": [
    "#Exercise: Mobile phone\n",
    "\n",
    "class Phone:\n",
    "    def __init__(self, number):\n",
    "        self.number = number\n",
    "        \n",
    "    def turn_on(self):\n",
    "        return f\"Mobile phone {self.number} is turned on\"\n",
    "    \n",
    "    def turn_off(self):\n",
    "        return f\"Mobile phone is turned off\"\n",
    "    \n",
    "    def call(self):\n",
    "        return f\"Calling {self.number}\"\n",
    "    \n",
    "phone_1 = Phone('01632-960004')\n",
    "phone_2 = Phone('01632-960012')\n",
    "phone_3 = Phone('555-34343')\n",
    "\n",
    "print(phone_1.turn_on())\n",
    "print(phone_2.turn_on())\n",
    "print(phone_3.call())\n",
    "print(phone_1.turn_off())"
   ]
  },
  {
   "cell_type": "code",
   "execution_count": null,
   "id": "536f6b46-cbb3-4762-bd62-ee77ffb18a76",
   "metadata": {},
   "outputs": [],
   "source": [
    "#Exercise: Apple weighing\n",
    "from numpy.random import uniform\n",
    "\n",
    "class Apple:\n",
    "    counter = 0\n",
    "    \n",
    "    def __init__(self):\n",
    "        self.weight = uniform(0.2, 0.5)\n",
    "        Apple.counter += 1\n",
    "        \n",
    "nr_apples = 1000\n",
    "weight_limit = 300\n",
    "apple_weight = 0\n",
    "\n",
    "while apple_weight <= weight_limit and Apple.counter <= nr_apples:\n",
    "    new_apple = Apple()\n",
    "    apple_weight += new_apple.weight\n",
    "\n",
    "print(apple_weight, Apple.counter)"
   ]
  },
  {
   "cell_type": "code",
   "execution_count": null,
   "id": "479e7090-8fd2-4ed2-9e5b-65bda74a3cf6",
   "metadata": {},
   "outputs": [],
   "source": [
    "class Person:\n",
    "    def __init__(self, weight, age, salary):\n",
    "        self.weight = weight\n",
    "        self.age = age\n",
    "        self.salary = salary\n",
    "    \n",
    "    #Use a magic method to represent Python core syntax!\n",
    "    def __add__(self, other): \n",
    "        return self.weight + other.weight\n",
    "\n",
    "p1 = Person(30, 40, 50)\n",
    "p2 = Person(35, 45, 55)\n",
    "\n",
    "print(p1 + p2)"
   ]
  },
  {
   "cell_type": "code",
   "execution_count": null,
   "id": "ac77f235-1b18-4855-8548-fabb4bced0c9",
   "metadata": {},
   "outputs": [],
   "source": [
    "#Execise: Interval (try out magic methods)\n",
    "from datetime import timedelta\n",
    "\n",
    "class Interval:\n",
    "    def __init__(self, hours=0, minutes=0, seconds=0):\n",
    "        self.interval = timedelta(hours=hours, minutes=minutes, seconds=seconds) \n",
    "    \n",
    "    def __add__(self, obj):\n",
    "        #Test if the object is an interval instance\n",
    "        if isinstance(obj, Interval):\n",
    "            return print(self.interval + obj.interval)\n",
    "        else:\n",
    "            return 'The object to be added is not an interval'\n",
    "        \n",
    "    def __mul__(self, integer):\n",
    "        if isinstance(integer, int):\n",
    "            return print(self.interval*integer)\n",
    "        else:\n",
    "            return 'The number to multiply by is not an integer'\n",
    "    "
   ]
  },
  {
   "cell_type": "code",
   "execution_count": null,
   "id": "24d3a7e6-417d-4415-ae48-82b776db29fc",
   "metadata": {},
   "outputs": [],
   "source": [
    "int1 = Interval(3,3,3)\n",
    "int1 + int1"
   ]
  },
  {
   "cell_type": "code",
   "execution_count": null,
   "id": "532e7f1f-d51b-49a7-9f5f-d88ff1fdec13",
   "metadata": {},
   "outputs": [],
   "source": [
    "#Exercise: Working with inheritance\n",
    "#MRO = Method Resolution Order (deadly diamond of death)\n",
    "\n",
    "class Scanner:\n",
    "    def scan(self):\n",
    "        return 'Scan from Scanner'\n",
    "    \n",
    "class Printer:\n",
    "    def to_print(self):\n",
    "        return 'Print from Printer'\n",
    "    \n",
    "class Fax:\n",
    "    def send(self):\n",
    "        return 'Send from Fax'\n",
    "    def to_print(self):\n",
    "        return 'Print from Fax'\n",
    "    \n",
    "class MFD_SPF(Scanner, Printer, Fax):\n",
    "    pass\n",
    "\n",
    "class MFD_SFP(Scanner, Fax, Printer):\n",
    "    pass\n",
    "\n",
    "x = MFD_SPF()\n",
    "y = MFD_SFP()"
   ]
  },
  {
   "cell_type": "code",
   "execution_count": null,
   "id": "d07d767e-a6a7-44bf-a8ca-5a788c41fd16",
   "metadata": {},
   "outputs": [],
   "source": [
    "x.to_print()"
   ]
  },
  {
   "cell_type": "code",
   "execution_count": null,
   "id": "a25269b6-1da4-4e2b-8452-d8ead5ef5ab5",
   "metadata": {},
   "outputs": [],
   "source": [
    "#Special identifiers: *args and **kwargs\n"
   ]
  },
  {
   "cell_type": "code",
   "execution_count": null,
   "id": "fa0c8480-2673-459d-be93-8d2a84cfb71f",
   "metadata": {},
   "outputs": [],
   "source": [
    "#*args – refers to a tuple of all additional, not explicitly expected positional arguments, so arguments passed without keywords and passed next after the expected arguments. \n",
    "#In other words, *args collects all unmatched positional arguments;\n",
    "#**kwargs (keyword arguments) – refers to a dictionary of all unexpected arguments that were passed in the form of keyword=value pairs. \n",
    "#Likewise, **kwargs collects all unmatched keyword arguments.\n",
    "\n",
    "def combiner(a, b, *args, **kwargs):\n",
    "    print(a, type(a))\n",
    "    print(b, type(b))\n",
    "    print(args, type(args))\n",
    "    print(kwargs, type(kwargs))\n",
    "\n",
    "combiner(10, '20', 40, 60, 30, argument1=50, argument2='66')"
   ]
  },
  {
   "cell_type": "code",
   "execution_count": null,
   "id": "20eb41ed-df5b-407b-8f75-3e17703e42a5",
   "metadata": {},
   "outputs": [],
   "source": [
    "def combiner(a, b, *args, **kwargs):\n",
    "    super_combiner(*args, **kwargs)\n",
    "\n",
    "def super_combiner(*my_args, **my_kwargs): #if you want to use args and kwargs, \n",
    "    print('my_args:', my_args)\n",
    "    print('my_kwargs', my_kwargs)\n",
    "\n",
    "combiner(10, '20', 40, 60, 30, argument1=50, argument2='66')"
   ]
  },
  {
   "cell_type": "code",
   "execution_count": 97,
   "id": "7ca0e9c8-278f-4626-9060-a50f504d461e",
   "metadata": {},
   "outputs": [
    {
     "name": "stdout",
     "output_type": "stream",
     "text": [
      "We are about to call \"simple_hello\"\n",
      "Hello from simple function!\n"
     ]
    }
   ],
   "source": [
    "#Function decorators\n",
    "\n",
    "def simple_decorator(function):\n",
    "    print('We are about to call \"{}\"'.format(function.__name__))\n",
    "    return function\n",
    "\n",
    "@simple_decorator\n",
    "def simple_hello():\n",
    "    print(\"Hello from simple function!\")\n",
    "\n",
    "simple_hello()"
   ]
  },
  {
   "cell_type": "code",
   "execution_count": null,
   "id": "b263758f-52a7-47be-99c3-49a00fa8328d",
   "metadata": {},
   "outputs": [],
   "source": [
    "dir(simple_hello)"
   ]
  },
  {
   "cell_type": "code",
   "execution_count": null,
   "id": "f70f71f9-84ab-455a-a1a0-ad4c9c5de262",
   "metadata": {},
   "outputs": [],
   "source": [
    "simple_hello.__name__"
   ]
  },
  {
   "cell_type": "code",
   "execution_count": 103,
   "id": "9ce96bee-8555-4046-a39e-82ec3c500283",
   "metadata": {},
   "outputs": [
    {
     "name": "stdout",
     "output_type": "stream",
     "text": [
      "Wrapping items from pack_books with kraft\n",
      "We'll pack books: ('Alice in Wonderland', 'Winnie the Pooh')\n",
      "\n",
      "Wrapping items from pack_toys with foil\n",
      "We'll pack toys: ('doll', 'car')\n",
      "\n",
      "Wrapping items from pack_fruits with cardboard\n",
      "We'll pack fruits: ('plum', 'pear')\n",
      "\n"
     ]
    }
   ],
   "source": [
    "def warehouse_decorator(material):\n",
    "    \n",
    "    \n",
    "    def wrapper(our_function):\n",
    "        \n",
    "        def internal_wrapper(*args):\n",
    "            print('Wrapping items from {} with {}'.format(our_function.__name__, material))\n",
    "            our_function(*args)\n",
    "            print()\n",
    "            \n",
    "        return internal_wrapper\n",
    "    \n",
    "    \n",
    "    return wrapper\n",
    "\n",
    "@warehouse_decorator('kraft')\n",
    "def pack_books(*args):\n",
    "    print(\"We'll pack books:\", args)\n",
    "\n",
    "@warehouse_decorator('foil')\n",
    "def pack_toys(*args):\n",
    "    print(\"We'll pack toys:\", args)\n",
    "\n",
    "@warehouse_decorator('cardboard')\n",
    "def pack_fruits(*args):\n",
    "    print(\"We'll pack fruits:\", args)\n",
    "\n",
    "pack_books('Alice in Wonderland', 'Winnie the Pooh')\n",
    "pack_toys('doll', 'car')\n",
    "pack_fruits('plum', 'pear')\n"
   ]
  },
  {
   "cell_type": "code",
   "execution_count": 104,
   "id": "f38abf3d-65b6-4c2d-8171-c5ccf8074c98",
   "metadata": {},
   "outputs": [
    {
     "name": "stdout",
     "output_type": "stream",
     "text": [
      "We'll pack books: ('Alice in Wonderland', 'Winnie the Pooh')\n",
      "<strong>*</strong> Wrapping items from pack_books with bubble foil\n",
      "<strong>*</strong> The whole order would be packed with plain cardboard\n",
      "\n",
      "We'll pack toys: ('doll', 'car')\n",
      "<strong>*</strong> Wrapping items from pack_toys with foil\n",
      "<strong>*</strong> The whole order would be packed with colourful cardboard\n",
      "\n",
      "We'll pack fruits: ('plum', 'pear')\n",
      "<strong>*</strong> Wrapping items from pack_fruits with cardboard\n",
      "<strong>*</strong> The whole order would be packed with strong cardboard\n",
      "\n"
     ]
    }
   ],
   "source": [
    "def big_container(collective_material):\n",
    "    def wrapper(our_function):\n",
    "        def internal_wrapper(*args):\n",
    "            our_function(*args)\n",
    "            print('<strong>*</strong> The whole order would be packed with', collective_material)\n",
    "            print()\n",
    "        return internal_wrapper\n",
    "    return wrapper\n",
    "\n",
    "def warehouse_decorator(material):\n",
    "    def wrapper(our_function):\n",
    "        def internal_wrapper(*args):\n",
    "            our_function(*args)\n",
    "            print('<strong>*</strong> Wrapping items from {} with {}'.format(our_function.__name__, material))\n",
    "        return internal_wrapper\n",
    "    return wrapper\n",
    "\n",
    "@big_container('plain cardboard')\n",
    "@warehouse_decorator('bubble foil')\n",
    "def pack_books(*args):\n",
    "    print(\"We'll pack books:\", args)\n",
    "\n",
    "@big_container('colourful cardboard')\n",
    "@warehouse_decorator('foil')\n",
    "def pack_toys(*args):\n",
    "    print(\"We'll pack toys:\", args)\n",
    "\n",
    "@big_container('strong cardboard')\n",
    "@warehouse_decorator('cardboard')\n",
    "def pack_fruits(*args):\n",
    "    print(\"We'll pack fruits:\", args)\n",
    "\n",
    "\n",
    "pack_books('Alice in Wonderland', 'Winnie the Pooh')\n",
    "pack_toys('doll', 'car')\n",
    "pack_fruits('plum', 'pear')"
   ]
  },
  {
   "cell_type": "code",
   "execution_count": null,
   "id": "8b95a25c-c0e0-466c-aa5a-97e9dd2788f6",
   "metadata": {},
   "outputs": [],
   "source": []
  }
 ],
 "metadata": {
  "kernelspec": {
   "display_name": "Python 3 (ipykernel)",
   "language": "python",
   "name": "python3"
  },
  "language_info": {
   "codemirror_mode": {
    "name": "ipython",
    "version": 3
   },
   "file_extension": ".py",
   "mimetype": "text/x-python",
   "name": "python",
   "nbconvert_exporter": "python",
   "pygments_lexer": "ipython3",
   "version": "3.8.13"
  }
 },
 "nbformat": 4,
 "nbformat_minor": 5
}
