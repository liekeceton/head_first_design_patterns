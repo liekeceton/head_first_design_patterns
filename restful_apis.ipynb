{
 "cells": [
  {
   "cell_type": "code",
   "execution_count": 40,
   "id": "8b186050-2152-45f1-8965-df021792a2f3",
   "metadata": {},
   "outputs": [],
   "source": [
    "#When we want to fetch something from a server, we need a socket\n",
    "import socket\n",
    "import requests\n",
    "import json"
   ]
  },
  {
   "cell_type": "code",
   "execution_count": 17,
   "id": "713aad43-936c-43ab-90da-76d5d50c4b73",
   "metadata": {},
   "outputs": [
    {
     "name": "stdin",
     "output_type": "stream",
     "text": [
      "What server do you want to connect to?  www.degrachtwacht.nl\n"
     ]
    },
    {
     "name": "stdout",
     "output_type": "stream",
     "text": [
      "b'HTTP/1.1 301 Moved Permanently\\r\\ndate: Mon, 05 Jun 2023 09:05:11 GMT\\r\\nserver: Apache/2\\r\\nlocation: https://www.degrachtwacht.nl/\\r\\ncontent-length: 237\\r\\ncontent-type: text/html; charset=iso-8859-1\\r\\nconnection: close\\r\\n\\r\\n<!DOCTYPE HTML PUBLIC \"-//IETF//DTD HTML 2.0//EN\">\\n<html><head>\\n<title>301 Moved Permanently</title>\\n</head><body>\\n<h1>Moved Permanently</h1>\\n<p>The document has moved <a href=\"https://www.degrachtwacht.nl/\">here</a>.</p>\\n</body></html>\\n'\n"
     ]
    }
   ],
   "source": [
    "#The name of the HTTP server we want to connect to\n",
    "server_addr = input(\"What server do you want to connect to? \")\n",
    "\n",
    "#Create a socket object (default configuration for sockets working on top of TCP protocol)\n",
    "sock = socket.socket(socket.AF_INET, socket.SOCK_STREAM)\n",
    "\n",
    "#Connect the socket to the specified address + port number\n",
    "#This tuple type input is specific for INET domains\n",
    "#Port number 80 is the standard port for the HTTP protocol\n",
    "sock.connect((server_addr, 80))\n",
    "\n",
    "#Sent a request to the server (translate to bytes, use a b-string)\n",
    "#utf-8 indicates the string encoding of the server name (best choice for modern OSs)\n",
    "sock.send(b\"GET / HTTP/1.1\\r\\nHost: \" +\n",
    "          bytes(server_addr, \"utf8\") +\n",
    "          b\"\\r\\nConnection: close\\r\\n\\r\\n\")\n",
    "\n",
    "#We save the reply that we receive (recv) from the server\n",
    "#Argument specifies the maximal length that we allow to be received\n",
    "reply = sock.recv(10000)\n",
    "#Common practive to invoke recv as long as it returns data\n",
    "\n",
    "#We close the connection\n",
    "#It should have already been closed after the get request was finished, but its good practice to close literally anyways\n",
    "sock.shutdown(socket.SHUT_RDWR)\n",
    "sock.close()\n",
    "\n",
    "#Show the replay in a textual format\n",
    "print(repr(reply))"
   ]
  },
  {
   "cell_type": "code",
   "execution_count": 19,
   "id": "7a39ff71-cb79-4869-8cb2-a44723ca05f5",
   "metadata": {},
   "outputs": [
    {
     "name": "stdout",
     "output_type": "stream",
     "text": [
      "200\n"
     ]
    }
   ],
   "source": [
    "#Using the requests module with a local JSON-server\n",
    "\n",
    "#A requests function named get() initiates execution of the HTTP GET method and receives the server's response. \n",
    "#The only details we need to provide are the server’s address and the service port number\n",
    "reply = requests.get('http://localhost:3000')\n",
    "print(reply.status_code)"
   ]
  },
  {
   "cell_type": "code",
   "execution_count": 23,
   "id": "ecdd5780-7851-4919-9e2c-61e2fc6eb2b0",
   "metadata": {},
   "outputs": [
    {
     "name": "stdout",
     "output_type": "stream",
     "text": [
      "Here is your data, my Master!\n"
     ]
    }
   ],
   "source": [
    "#Handling issues with the requests module\n",
    "try:\n",
    "    reply = requests.get('http://localhost:3000', timeout=1)\n",
    "except requests.exceptions.Timeout:\n",
    "    print('Sorry, Mr. Impatient, you didn\\'t get your data')\n",
    "else:\n",
    "    print('Here is your data, my Master!')"
   ]
  },
  {
   "cell_type": "code",
   "execution_count": 24,
   "id": "3e3b2a2a-13d6-471e-80c4-51b1cd3d8d33",
   "metadata": {},
   "outputs": [
    {
     "name": "stdout",
     "output_type": "stream",
     "text": [
      "Nobody's home, sorry!\n"
     ]
    }
   ],
   "source": [
    "try:\n",
    "    reply = requests.get('http://localhost:3001', timeout=1)\n",
    "except requests.exceptions.ConnectionError:\n",
    "    print('Nobody\\'s home, sorry!')\n",
    "else:\n",
    "    print('Everything fine!')"
   ]
  },
  {
   "cell_type": "code",
   "execution_count": 21,
   "id": "406d9424-3560-4c9c-909f-ecd1c8230e4b",
   "metadata": {},
   "outputs": [
    {
     "name": "stdout",
     "output_type": "stream",
     "text": [
      "{'X-Powered-By': 'Express', 'Vary': 'Origin, Accept-Encoding', 'Access-Control-Allow-Credentials': 'true', 'Accept-Ranges': 'bytes', 'Cache-Control': 'public, max-age=0', 'Last-Modified': 'Mon, 05 Jun 2023 13:01:51 GMT', 'ETag': 'W/\"809-1888ba64bc9\"', 'Content-Type': 'text/html; charset=UTF-8', 'Content-Encoding': 'gzip', 'Date': 'Mon, 05 Jun 2023 13:20:21 GMT', 'Connection': 'keep-alive', 'Keep-Alive': 'timeout=5', 'Transfer-Encoding': 'chunked'}\n"
     ]
    }
   ],
   "source": [
    "print(reply.headers)"
   ]
  },
  {
   "cell_type": "code",
   "execution_count": 22,
   "id": "b735594e-0ce0-443d-9783-f3e494fda630",
   "metadata": {},
   "outputs": [
    {
     "name": "stdout",
     "output_type": "stream",
     "text": [
      "<html>\n",
      "  <head>\n",
      "    <link\n",
      "      rel=\"stylesheet\"\n",
      "      href=\"https://use.fontawesome.com/releases/v5.8.2/css/all.css\"\n",
      "      integrity=\"sha384-oS3vJWv+0UjzBfQzYUhtDYW+Pj2yciDJxpsK1OYPAYjqT085Qq/1cq5FLXAZQ7Ay\"\n",
      "      crossorigin=\"anonymous\"\n",
      "    />\n",
      "    <link rel=\"stylesheet\" href=\"style.css\" />\n",
      "    <title>JSON Server</title>\n",
      "  </head>\n",
      "\n",
      "  <body>\n",
      "    <header>\n",
      "      <div class=\"container\">\n",
      "        <nav>\n",
      "          <ul>\n",
      "            <li class=\"title\">\n",
      "              JSON Server\n",
      "            </li>\n",
      "            <li>\n",
      "              <a href=\"https://github.com/users/typicode/sponsorship\">\n",
      "                <i class=\"fas fa-heart\"></i>GitHub Sponsors\n",
      "              </a>\n",
      "            </li>\n",
      "            <li>\n",
      "              <a href=\"https://my-json-server.typicode.com\">\n",
      "                <i class=\"fas fa-burn\"></i>My JSON Server\n",
      "              </a>\n",
      "            </li>\n",
      "            <li>\n",
      "              <a href=\"https://thanks.typicode.com\">\n",
      "                <i class=\"far fa-laugh\"></i>Supporters\n",
      "              </a>\n",
      "            </li>\n",
      "          </ul>\n",
      "        </nav>\n",
      "      </div>\n",
      "    </header>\n",
      "    <main>\n",
      "      <div class=\"container\">\n",
      "        <h1>Congrats!</h1>\n",
      "        <p>\n",
      "          You're successfully running JSON Server\n",
      "          <br />\n",
      "          ✧*｡٩(ˊᗜˋ*)و✧*｡\n",
      "        </p>\n",
      "\n",
      "        <div id=\"resources\"></div>\n",
      "\n",
      "        <p>\n",
      "          To access and modify resources, you can use any HTTP method:\n",
      "        </p>\n",
      "        <p>\n",
      "          <code>GET</code>\n",
      "          <code>POST</code>\n",
      "          <code>PUT</code>\n",
      "          <code>PATCH</code>\n",
      "          <code>DELETE</code>\n",
      "          <code>OPTIONS</code>\n",
      "        </p>\n",
      "\n",
      "        <div id=\"custom-routes\"></div>\n",
      "\n",
      "        <h1>Documentation</h1>\n",
      "        <p>\n",
      "          <a href=\"https://github.com/typicode/json-server\">\n",
      "            README\n",
      "          </a>\n",
      "        </p>\n",
      "      </div>\n",
      "    </main>\n",
      "\n",
      "    <footer>\n",
      "      <div class=\"container\">\n",
      "        <p>\n",
      "          To replace this page, create a\n",
      "          <code>./public/index.html</code> file.\n",
      "        </p>\n",
      "      </div>\n",
      "    </footer>\n",
      "\n",
      "    <script src=\"script.js\"></script>\n",
      "  </body>\n",
      "</html>\n",
      "\n"
     ]
    }
   ],
   "source": [
    "print(reply.text)"
   ]
  },
  {
   "cell_type": "code",
   "execution_count": 20,
   "id": "034ef2e5-4d2f-442c-8d60-24684eef9fee",
   "metadata": {},
   "outputs": [
    {
     "name": "stdout",
     "output_type": "stream",
     "text": [
      "{'name': 'status_codes', 'continue': 100, 'CONTINUE': 100, 'switching_protocols': 101, 'SWITCHING_PROTOCOLS': 101, 'processing': 102, 'PROCESSING': 102, 'checkpoint': 103, 'CHECKPOINT': 103, 'uri_too_long': 122, 'URI_TOO_LONG': 122, 'request_uri_too_long': 122, 'REQUEST_URI_TOO_LONG': 122, 'ok': 200, 'OK': 200, 'okay': 200, 'OKAY': 200, 'all_ok': 200, 'ALL_OK': 200, 'all_okay': 200, 'ALL_OKAY': 200, 'all_good': 200, 'ALL_GOOD': 200, '\\\\o/': 200, '✓': 200, 'created': 201, 'CREATED': 201, 'accepted': 202, 'ACCEPTED': 202, 'non_authoritative_info': 203, 'NON_AUTHORITATIVE_INFO': 203, 'non_authoritative_information': 203, 'NON_AUTHORITATIVE_INFORMATION': 203, 'no_content': 204, 'NO_CONTENT': 204, 'reset_content': 205, 'RESET_CONTENT': 205, 'reset': 205, 'RESET': 205, 'partial_content': 206, 'PARTIAL_CONTENT': 206, 'partial': 206, 'PARTIAL': 206, 'multi_status': 207, 'MULTI_STATUS': 207, 'multiple_status': 207, 'MULTIPLE_STATUS': 207, 'multi_stati': 207, 'MULTI_STATI': 207, 'multiple_stati': 207, 'MULTIPLE_STATI': 207, 'already_reported': 208, 'ALREADY_REPORTED': 208, 'im_used': 226, 'IM_USED': 226, 'multiple_choices': 300, 'MULTIPLE_CHOICES': 300, 'moved_permanently': 301, 'MOVED_PERMANENTLY': 301, 'moved': 301, 'MOVED': 301, '\\\\o-': 301, 'found': 302, 'FOUND': 302, 'see_other': 303, 'SEE_OTHER': 303, 'other': 303, 'OTHER': 303, 'not_modified': 304, 'NOT_MODIFIED': 304, 'use_proxy': 305, 'USE_PROXY': 305, 'switch_proxy': 306, 'SWITCH_PROXY': 306, 'temporary_redirect': 307, 'TEMPORARY_REDIRECT': 307, 'temporary_moved': 307, 'TEMPORARY_MOVED': 307, 'temporary': 307, 'TEMPORARY': 307, 'permanent_redirect': 308, 'PERMANENT_REDIRECT': 308, 'resume_incomplete': 308, 'RESUME_INCOMPLETE': 308, 'resume': 308, 'RESUME': 308, 'bad_request': 400, 'BAD_REQUEST': 400, 'bad': 400, 'BAD': 400, 'unauthorized': 401, 'UNAUTHORIZED': 401, 'payment_required': 402, 'PAYMENT_REQUIRED': 402, 'payment': 402, 'PAYMENT': 402, 'forbidden': 403, 'FORBIDDEN': 403, 'not_found': 404, 'NOT_FOUND': 404, '-o-': 404, '-O-': 404, 'method_not_allowed': 405, 'METHOD_NOT_ALLOWED': 405, 'not_allowed': 405, 'NOT_ALLOWED': 405, 'not_acceptable': 406, 'NOT_ACCEPTABLE': 406, 'proxy_authentication_required': 407, 'PROXY_AUTHENTICATION_REQUIRED': 407, 'proxy_auth': 407, 'PROXY_AUTH': 407, 'proxy_authentication': 407, 'PROXY_AUTHENTICATION': 407, 'request_timeout': 408, 'REQUEST_TIMEOUT': 408, 'timeout': 408, 'TIMEOUT': 408, 'conflict': 409, 'CONFLICT': 409, 'gone': 410, 'GONE': 410, 'length_required': 411, 'LENGTH_REQUIRED': 411, 'precondition_failed': 412, 'PRECONDITION_FAILED': 412, 'precondition': 428, 'PRECONDITION': 428, 'request_entity_too_large': 413, 'REQUEST_ENTITY_TOO_LARGE': 413, 'request_uri_too_large': 414, 'REQUEST_URI_TOO_LARGE': 414, 'unsupported_media_type': 415, 'UNSUPPORTED_MEDIA_TYPE': 415, 'unsupported_media': 415, 'UNSUPPORTED_MEDIA': 415, 'media_type': 415, 'MEDIA_TYPE': 415, 'requested_range_not_satisfiable': 416, 'REQUESTED_RANGE_NOT_SATISFIABLE': 416, 'requested_range': 416, 'REQUESTED_RANGE': 416, 'range_not_satisfiable': 416, 'RANGE_NOT_SATISFIABLE': 416, 'expectation_failed': 417, 'EXPECTATION_FAILED': 417, 'im_a_teapot': 418, 'IM_A_TEAPOT': 418, 'teapot': 418, 'TEAPOT': 418, 'i_am_a_teapot': 418, 'I_AM_A_TEAPOT': 418, 'misdirected_request': 421, 'MISDIRECTED_REQUEST': 421, 'unprocessable_entity': 422, 'UNPROCESSABLE_ENTITY': 422, 'unprocessable': 422, 'UNPROCESSABLE': 422, 'locked': 423, 'LOCKED': 423, 'failed_dependency': 424, 'FAILED_DEPENDENCY': 424, 'dependency': 424, 'DEPENDENCY': 424, 'unordered_collection': 425, 'UNORDERED_COLLECTION': 425, 'unordered': 425, 'UNORDERED': 425, 'upgrade_required': 426, 'UPGRADE_REQUIRED': 426, 'upgrade': 426, 'UPGRADE': 426, 'precondition_required': 428, 'PRECONDITION_REQUIRED': 428, 'too_many_requests': 429, 'TOO_MANY_REQUESTS': 429, 'too_many': 429, 'TOO_MANY': 429, 'header_fields_too_large': 431, 'HEADER_FIELDS_TOO_LARGE': 431, 'fields_too_large': 431, 'FIELDS_TOO_LARGE': 431, 'no_response': 444, 'NO_RESPONSE': 444, 'none': 444, 'NONE': 444, 'retry_with': 449, 'RETRY_WITH': 449, 'retry': 449, 'RETRY': 449, 'blocked_by_windows_parental_controls': 450, 'BLOCKED_BY_WINDOWS_PARENTAL_CONTROLS': 450, 'parental_controls': 450, 'PARENTAL_CONTROLS': 450, 'unavailable_for_legal_reasons': 451, 'UNAVAILABLE_FOR_LEGAL_REASONS': 451, 'legal_reasons': 451, 'LEGAL_REASONS': 451, 'client_closed_request': 499, 'CLIENT_CLOSED_REQUEST': 499, 'internal_server_error': 500, 'INTERNAL_SERVER_ERROR': 500, 'server_error': 500, 'SERVER_ERROR': 500, '/o\\\\': 500, '✗': 500, 'not_implemented': 501, 'NOT_IMPLEMENTED': 501, 'bad_gateway': 502, 'BAD_GATEWAY': 502, 'service_unavailable': 503, 'SERVICE_UNAVAILABLE': 503, 'unavailable': 503, 'UNAVAILABLE': 503, 'gateway_timeout': 504, 'GATEWAY_TIMEOUT': 504, 'http_version_not_supported': 505, 'HTTP_VERSION_NOT_SUPPORTED': 505, 'http_version': 505, 'HTTP_VERSION': 505, 'variant_also_negotiates': 506, 'VARIANT_ALSO_NEGOTIATES': 506, 'insufficient_storage': 507, 'INSUFFICIENT_STORAGE': 507, 'bandwidth_limit_exceeded': 509, 'BANDWIDTH_LIMIT_EXCEEDED': 509, 'bandwidth': 509, 'BANDWIDTH': 509, 'not_extended': 510, 'NOT_EXTENDED': 510, 'network_authentication_required': 511, 'NETWORK_AUTHENTICATION_REQUIRED': 511, 'network_auth': 511, 'NETWORK_AUTH': 511, 'network_authentication': 511, 'NETWORK_AUTHENTICATION': 511}\n"
     ]
    }
   ],
   "source": [
    "#HTTP status codes\n",
    "print(requests.codes.__dict__)"
   ]
  },
  {
   "cell_type": "code",
   "execution_count": null,
   "id": "ba17737c-bcaa-4c42-b60d-05876b02eb9d",
   "metadata": {},
   "outputs": [],
   "source": [
    "#The response header is the first line, holding the 3-digit status number:\n",
    "\n",
    "#200 OK\n",
    "#304 Not Modified\n",
    "#301 Moved Permanently\n",
    "#400 Bad Request\n",
    "#404 Not Found"
   ]
  },
  {
   "cell_type": "code",
   "execution_count": 27,
   "id": "7a2a0d60-1e76-4355-83f8-a9c2e7e91cbe",
   "metadata": {},
   "outputs": [
    {
     "name": "stdout",
     "output_type": "stream",
     "text": [
      "[\n",
      "  {\n",
      "    \"id\": 2,\n",
      "    \"brand\": \"Chevrolet\",\n",
      "    \"model\": \"Camaro\",\n",
      "    \"production_year\": 1988,\n",
      "    \"convertible\": true\n",
      "  },\n",
      "  {\n",
      "    \"id\": 3,\n",
      "    \"brand\": \"Aston Martin\",\n",
      "    \"model\": \"Rapide\",\n",
      "    \"production_year\": 2010,\n",
      "    \"convertible\": false\n",
      "  },\n",
      "  {\n",
      "    \"id\": 4,\n",
      "    \"brand\": \"Maserati\",\n",
      "    \"model\": \"Mexico\",\n",
      "    \"production_year\": 1970,\n",
      "    \"convertible\": false\n",
      "  },\n",
      "  {\n",
      "    \"id\": 5,\n",
      "    \"brand\": \"Nissan\",\n",
      "    \"model\": \"Fairlady\",\n",
      "    \"production_year\": 1974,\n",
      "    \"convertible\": false\n",
      "  },\n",
      "  {\n",
      "    \"id\": 6,\n",
      "    \"brand\": \"Mercedes Benz\",\n",
      "    \"model\": \"300SL\",\n",
      "    \"production_year\": 1967,\n",
      "    \"convertible\": true\n",
      "  },\n",
      "  {\n",
      "    \"id\": 7,\n",
      "    \"brand\": \"Porsche\",\n",
      "    \"model\": \"911\",\n",
      "    \"production_year\": 1963,\n",
      "    \"convertible\": false\n",
      "  }\n",
      "]\n"
     ]
    }
   ],
   "source": [
    "#Building a simple REST client\n",
    "\n",
    "#R = Read = HTTP method GET\n",
    "try:\n",
    "    reply = requests.get(\"http://localhost:3000/cars\")\n",
    "except requests.RequestException:\n",
    "    print(\"Communication error\")\n",
    "else:\n",
    "    if reply.status_code == requests.codes.ok:\n",
    "        print(reply.text)\n",
    "    else:\n",
    "        print(\"Server error\")"
   ]
  },
  {
   "cell_type": "code",
   "execution_count": 28,
   "id": "60860ecf-9a06-4bb2-a1fd-67acd024f63d",
   "metadata": {},
   "outputs": [
    {
     "name": "stdout",
     "output_type": "stream",
     "text": [
      "application/json; charset=utf-8\n",
      "[{'id': 2, 'brand': 'Chevrolet', 'model': 'Camaro', 'production_year': 1988, 'convertible': True}, {'id': 3, 'brand': 'Aston Martin', 'model': 'Rapide', 'production_year': 2010, 'convertible': False}, {'id': 4, 'brand': 'Maserati', 'model': 'Mexico', 'production_year': 1970, 'convertible': False}, {'id': 5, 'brand': 'Nissan', 'model': 'Fairlady', 'production_year': 1974, 'convertible': False}, {'id': 6, 'brand': 'Mercedes Benz', 'model': '300SL', 'production_year': 1967, 'convertible': True}, {'id': 7, 'brand': 'Porsche', 'model': '911', 'production_year': 1963, 'convertible': False}]\n"
     ]
    }
   ],
   "source": [
    "try:\n",
    "    reply = requests.get(\"http://localhost:3000/cars\")\n",
    "except:\n",
    "    print(\"Communication error\")\n",
    "else:\n",
    "    if reply.status_code == requests.codes.ok:\n",
    "        print(reply.headers['Content-Type'])\n",
    "        print(reply.json())\n",
    "    else:\n",
    "        print(\"Server error\")"
   ]
  },
  {
   "cell_type": "code",
   "execution_count": 34,
   "id": "bb23aed9-fb30-4501-9f3a-c8492afcb203",
   "metadata": {},
   "outputs": [
    {
     "name": "stdout",
     "output_type": "stream",
     "text": [
      "id        | brand          | model     | production_year     | convertible    | \n",
      "3         | Aston Martin   | Rapide    | 2010                | False          | \n",
      "2         | Chevrolet      | Camaro    | 1988                | True           | \n",
      "5         | Nissan         | Fairlady  | 1974                | False          | \n",
      "4         | Maserati       | Mexico    | 1970                | False          | \n",
      "6         | Mercedes Benz  | 300SL     | 1967                | True           | \n",
      "7         | Porsche        | 911       | 1963                | False          | \n"
     ]
    }
   ],
   "source": [
    "key_names = [\"id\", \"brand\", \"model\", \"production_year\", \"convertible\"]\n",
    "key_widths = [10, 15, 10, 20, 15]\n",
    "\n",
    "def show_head():\n",
    "    for (n, w) in zip(key_names, key_widths):\n",
    "        print(n.ljust(w), end='| ')\n",
    "    print()\n",
    "\n",
    "def show_car(car):\n",
    "    for (n, w) in zip(key_names, key_widths):\n",
    "        print(str(car[n]).ljust(w), end='| ')\n",
    "    print()\n",
    "\n",
    "def show_empty():\n",
    "    for w in key_widths:\n",
    "        print(' '.ljust(w), end='| ')\n",
    "    print()\n",
    "\n",
    "def show(json):\n",
    "    show_head()\n",
    "    if type(json) is list:\n",
    "        for car in json:\n",
    "            show_car(car)\n",
    "    elif type(json) is dict:\n",
    "        if json:\n",
    "            show_car(json)\n",
    "        else:\n",
    "            show_empty()\n",
    "\n",
    "try:\n",
    "    reply = requests.get('http://localhost:3000/cars?_sort=production_year&_order=desc') #after ? additional request parameters can be added\n",
    "except requests.RequestException:\n",
    "    print('Communication error')\n",
    "else:\n",
    "    if reply.status_code == requests.codes.ok:\n",
    "        show(reply.json())\n",
    "    else:\n",
    "        print('Server error')"
   ]
  },
  {
   "cell_type": "code",
   "execution_count": 32,
   "id": "2c4d18c3-deb9-4b5c-873d-9f4255bb7bfe",
   "metadata": {},
   "outputs": [
    {
     "name": "stdout",
     "output_type": "stream",
     "text": [
      "id        | brand          | model     | production_year     | convertible    | \n",
      "2         | Chevrolet      | Camaro    | 1988                | True           | \n"
     ]
    }
   ],
   "source": [
    "#Select a specific id --> This can be done within the URL/tree structure!\n",
    "try:\n",
    "    reply = requests.get('http://localhost:3000/cars/2')\n",
    "except requests.RequestException:\n",
    "    print('Communication error')\n",
    "else:\n",
    "    if reply.status_code == requests.codes.ok:\n",
    "        show(reply.json())\n",
    "    elif reply.status_code == requests.codes.not_found:\n",
    "        print(\"Resource not found\")\n",
    "    else:\n",
    "        print('Server error')"
   ]
  },
  {
   "cell_type": "code",
   "execution_count": 38,
   "id": "3fffd772-5795-418c-b478-291933e28fd4",
   "metadata": {},
   "outputs": [
    {
     "name": "stdout",
     "output_type": "stream",
     "text": [
      "res=404\n",
      "res=200\n",
      "Connection=close\n",
      "id        | brand          | model     | production_year     | convertible    | \n",
      "2         | Chevrolet      | Camaro    | 1988                | True           | \n",
      "3         | Aston Martin   | Rapide    | 2010                | False          | \n",
      "4         | Maserati       | Mexico    | 1970                | False          | \n",
      "5         | Nissan         | Fairlady  | 1974                | False          | \n",
      "6         | Mercedes Benz  | 300SL     | 1967                | True           | \n",
      "7         | Porsche        | 911       | 1963                | False          | \n"
     ]
    }
   ],
   "source": [
    "#Delete a specific id\n",
    "headers = {'Connection': 'Close'}\n",
    "try:\n",
    "    reply = requests.delete('http://localhost:3000/cars/1')\n",
    "    print(\"res=\" + str(reply.status_code))\n",
    "    reply = requests.get('http://localhost:3000/cars/', headers=headers)\n",
    "    print(\"res=\" + str(reply.status_code))\n",
    "except requests.RequestException:\n",
    "    print('Communication error')\n",
    "else:\n",
    "    print('Connection=' + reply.headers['Connection'])\n",
    "    if reply.status_code == requests.codes.ok:\n",
    "        show(reply.json())\n",
    "    elif reply.status_code == requests.codes.not_found:\n",
    "        print(\"Resource not found\")\n",
    "    else:\n",
    "        print('Server error')"
   ]
  },
  {
   "cell_type": "code",
   "execution_count": 41,
   "id": "bcda100f-fbd1-4cc3-9933-ed7144a11159",
   "metadata": {},
   "outputs": [
    {
     "name": "stdout",
     "output_type": "stream",
     "text": [
      "{\"id\": 7, \"brand\": \"Porsche\", \"model\": \"911\", \"production_year\": 1963, \"convertible\": false}\n",
      "reply=500\n",
      "Connection=close\n",
      "id        | brand          | model     | production_year     | convertible    | \n",
      "2         | Chevrolet      | Camaro    | 1988                | True           | \n",
      "3         | Aston Martin   | Rapide    | 2010                | False          | \n",
      "4         | Maserati       | Mexico    | 1970                | False          | \n",
      "5         | Nissan         | Fairlady  | 1974                | False          | \n",
      "6         | Mercedes Benz  | 300SL     | 1967                | True           | \n",
      "7         | Porsche        | 911       | 1963                | False          | \n"
     ]
    }
   ],
   "source": [
    "#Add a new car to the json-file\n",
    "h_close = {'Connection': 'Close'}\n",
    "h_content = {'Content-Type': 'application/json'}\n",
    "new_car = {'id': 7,\n",
    "           'brand': 'Porsche',\n",
    "           'model': '911',\n",
    "           'production_year': 1963,\n",
    "           'convertible': False}\n",
    "print(json.dumps(new_car))\n",
    "try:\n",
    "    reply = requests.post('http://localhost:3000/cars', headers=h_content, data=json.dumps(new_car))\n",
    "    print(\"reply=\" + str(reply.status_code))\n",
    "    reply = requests.get('http://localhost:3000/cars/', headers=h_close)\n",
    "except requests.RequestException:\n",
    "    print('Communication error')\n",
    "else:\n",
    "    print('Connection=' + reply.headers['Connection'])\n",
    "    if reply.status_code == requests.codes.ok:\n",
    "        show(reply.json())\n",
    "    elif reply.status_code == requests.codes.not_found:\n",
    "        print(\"Resource not found\")\n",
    "    else:\n",
    "        print('Server error')"
   ]
  },
  {
   "cell_type": "code",
   "execution_count": 46,
   "id": "af73e1bb-88f0-42cc-9a73-f6a38e42c562",
   "metadata": {},
   "outputs": [
    {
     "name": "stdout",
     "output_type": "stream",
     "text": [
      "res=200\n",
      "res=200\n",
      "Connection=close\n",
      "id        | brand          | model     | production_year     | convertible    | \n",
      "2         | Chevrolet      | Camaro    | 1988                | True           | \n",
      "3         | Aston Martin   | Rapide    | 2010                | False          | \n",
      "4         | Maserati       | Mexico    | 1970                | False          | \n",
      "5         | Nissan         | Fairlady  | 1974                | False          | \n",
      "6         | Mercedes Benz  | 300SL     | 1968                | True           | \n",
      "7         | Porsche        | 911       | 1963                | False          | \n"
     ]
    }
   ],
   "source": [
    "#Update a file\n",
    "h_close = {'Connection': 'Close'}\n",
    "h_content = {'Content-Type': 'application/json'}\n",
    "car = {'id': 6,\n",
    "       'brand': 'Mercedes Benz',\n",
    "       'model': '300SL',\n",
    "       'production_year': 1968,\n",
    "       'convertible': True}\n",
    "try:\n",
    "    reply = requests.put('http://localhost:3000/cars/6', headers=h_content, data=json.dumps(car))\n",
    "    print(\"res=\" + str(reply.status_code))\n",
    "    reply = requests.get('http://localhost:3000/cars/', headers=h_close)\n",
    "    print(\"res=\" + str(reply.status_code))\n",
    "except requests.RequestException:\n",
    "    print('Communication error')\n",
    "else:\n",
    "    print('Connection=' + reply.headers['Connection'])\n",
    "    if reply.status_code == requests.codes.ok:\n",
    "        show(reply.json())\n",
    "    elif reply.status_code == requests.codes.not_found:\n",
    "        print(\"Resource not found\")\n",
    "    else:\n",
    "        print('Server error')"
   ]
  },
  {
   "cell_type": "code",
   "execution_count": 37,
   "id": "8af6acd2-269b-4a63-a03f-3b17755fb570",
   "metadata": {},
   "outputs": [],
   "source": [
    "#What server do you want to connect to?  www.site.com\n",
    "#b'HTTP/1.1 200 OK\\r\\nDate: Fri, 08 Mar 2019 08:24:41 GMT\\r\\nServer: UltraDNS Client Redirection Server\\r\\nLast-Modified: \n",
    "#Fri, 08 Mar 2019 08:24:41 GMT\\r\\nAccept-Ranges: none\\r\\nConnection: close\\r\\nContent-Type: text/html\\r\\n\\r\\n\\r\\n\\r\\n\\r\\n\\r\\n\\r\\n\\r\\n\\r\\n\\r\\n\\r\\n'"
   ]
  },
  {
   "cell_type": "code",
   "execution_count": null,
   "id": "c40d227e-e27c-40d9-be5a-ad6eb6673072",
   "metadata": {},
   "outputs": [],
   "source": [
    "#HTTP GET request\n",
    "#a line containing the method name (i.e., GET) followed by the name of the resource the client wants to receive; \n",
    "#the root document is specified as a single slash (i.e., /); \n",
    "#the line must also include the HTTP protocol version (i.e., HTTP/1.1) and must end with the characters \\r\\n; note: all lines must end the same way;\n",
    "GET / HTTP/1.1\\r\\n\n",
    "#a line containing the name of the site (e.g., www.site.com) preceded by the parameter name (i.e., Host:)\n",
    "Host: www.site.com\\r\\n\n",
    "#a line containing a parameter named Connection: \n",
    "#along with its value close, which forces the server to close the connection after the first request is served; it will simplify our client's code;\n",
    "Connection: close\\r\\n\n",
    "#an empty line is a request terminator.\n",
    "\\r\\n\n",
    "\n",
    "    \n",
    "    \n"
   ]
  }
 ],
 "metadata": {
  "kernelspec": {
   "display_name": "Python 3 (ipykernel)",
   "language": "python",
   "name": "python3"
  },
  "language_info": {
   "codemirror_mode": {
    "name": "ipython",
    "version": 3
   },
   "file_extension": ".py",
   "mimetype": "text/x-python",
   "name": "python",
   "nbconvert_exporter": "python",
   "pygments_lexer": "ipython3",
   "version": "3.8.13"
  }
 },
 "nbformat": 4,
 "nbformat_minor": 5
}
