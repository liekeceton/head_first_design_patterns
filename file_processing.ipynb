{
 "cells": [
  {
   "cell_type": "code",
   "execution_count": 1,
   "id": "8195acea-557b-423e-8e02-925de0d6e4b5",
   "metadata": {},
   "outputs": [],
   "source": [
    "import sqlite3"
   ]
  },
  {
   "cell_type": "code",
   "execution_count": 2,
   "id": "25d2b800-32ad-49d5-85f8-bd7d8b8d53a4",
   "metadata": {},
   "outputs": [],
   "source": [
    "#Create a db\n",
    "#Return the database as a Connection object\n",
    "#Takes only the name as an argument\n",
    "conn = sqlite3.connect('hello.db')"
   ]
  },
  {
   "cell_type": "code",
   "execution_count": null,
   "id": "404b79a7-5bdb-4f27-9a70-e482db496759",
   "metadata": {},
   "outputs": [],
   "source": [
    "conn = sqlite3.connect(':memory:') #Create a database in RAM"
   ]
  },
  {
   "cell_type": "code",
   "execution_count": 3,
   "id": "8d44ad69-a4aa-44a4-b4b0-91ecbfd09dc7",
   "metadata": {},
   "outputs": [
    {
     "data": {
      "text/plain": [
       "<sqlite3.Cursor at 0x21cc6fb48f0>"
      ]
     },
     "execution_count": 3,
     "metadata": {},
     "output_type": "execute_result"
    }
   ],
   "source": [
    "#Cursor objects allow any SQL statement to be executed in the database\n",
    "c = conn.cursor()\n",
    "\n",
    "#Create a table in the database named hello\n",
    "c.execute('''CREATE TABLE IF NOT EXISTS tasks (\n",
    "id INTEGER PRIMARY KEY,\n",
    "name TEXT NOT NULL,\n",
    "priority INTEGER NOT NULL\n",
    ");''')"
   ]
  },
  {
   "cell_type": "code",
   "execution_count": 4,
   "id": "0e54c0a1-3f34-4898-8b07-5225d5c69243",
   "metadata": {},
   "outputs": [],
   "source": [
    "#Insert data into the table\n",
    "\n",
    "#Id does not need to be mentioned, unique primary keys will be self-generated/are auto-incremental\n",
    "#c.execute('''INSERT INTO tasks (id, name, priority) VALUES (1, 'My first task', 1);''')\n",
    "#(?,?) format to avoid SQL injection attack?\n",
    "c.execute('INSERT INTO tasks (name, priority) VALUES (?,?)', ('My first task', 1))\n",
    "#Commit the change made\n",
    "conn.commit()"
   ]
  },
  {
   "cell_type": "code",
   "execution_count": 5,
   "id": "fe284bbd-b938-4465-a29a-d77f09ae1e4d",
   "metadata": {},
   "outputs": [],
   "source": [
    "#Use the executemany command to repeat command multiple times\n",
    "#Open the db\n",
    "c = conn.cursor()\n",
    "\n",
    "tasks = [\n",
    "    ('My first task', 1),\n",
    "    ('My second task', 5),\n",
    "    ('My third task', 10),\n",
    "]\n",
    "c.executemany('INSERT INTO tasks (name, priority) VALUES (?,?)', tasks)\n",
    "conn.commit()"
   ]
  },
  {
   "cell_type": "code",
   "execution_count": 6,
   "id": "c5ea104c-c631-4e30-8402-8060bd6ff2f4",
   "metadata": {},
   "outputs": [
    {
     "name": "stdin",
     "output_type": "stream",
     "text": [
      "Enter task name:  task55\n",
      "Enter priority:  4\n"
     ]
    }
   ],
   "source": [
    "#Refactored approach\n",
    "class Todo:\n",
    "    def __init__(self):\n",
    "        self.conn = sqlite3.connect('todo.db')\n",
    "        self.c = self.conn.cursor()\n",
    "        self.create_task_table()\n",
    "        \n",
    "    def create_task_table(self):\n",
    "        self.c.execute('''CREATE TABLE IF NOT EXISTS tasks (\n",
    "                     id INTEGER PRIMARY KEY,\n",
    "                     name TEXT NOT NULL,\n",
    "                     priority INTEGER NOT NULL\n",
    "                     );''')\n",
    "    \n",
    "    def add_task(self):\n",
    "        name = input('Enter task name: ')\n",
    "        priority = int(input('Enter priority: '))\n",
    "        \n",
    "        self.c.execute('INSERT INTO tasks (name, priority) VALUES (?,?)', (name, priority))\n",
    "        self.conn.commit()\n",
    "\n",
    "app = Todo()\n",
    "app.add_task()"
   ]
  },
  {
   "cell_type": "code",
   "execution_count": 10,
   "id": "b0b159b8-7540-4887-ac14-76c23113e05a",
   "metadata": {},
   "outputs": [
    {
     "name": "stdin",
     "output_type": "stream",
     "text": [
      "Enter task name:  run outside\n",
      "Enter priority:  2\n"
     ]
    }
   ],
   "source": [
    "app.add_task()"
   ]
  },
  {
   "cell_type": "code",
   "execution_count": 17,
   "id": "65a6919e-6207-4206-94af-eef4a1b43e11",
   "metadata": {},
   "outputs": [
    {
     "name": "stdout",
     "output_type": "stream",
     "text": [
      "(1, 'task55', 4)\n",
      "(2, 'do washing', 1)\n",
      "(3, 'run outside', 2)\n"
     ]
    }
   ],
   "source": [
    "#Reading data using the SELECT command\n",
    "for row in app.c.execute('''SELECT * FROM tasks;'''):\n",
    "    print(row)"
   ]
  },
  {
   "cell_type": "code",
   "execution_count": 23,
   "id": "a48203b4-8c48-4b12-8dd1-6d966b274443",
   "metadata": {},
   "outputs": [
    {
     "name": "stdout",
     "output_type": "stream",
     "text": [
      "(1, 'task55', 4)\n",
      "(2, 'do washing', 1)\n",
      "(3, 'run outside', 2)\n"
     ]
    }
   ],
   "source": [
    "c = app.c.execute('SELECT * FROM tasks')\n",
    "rows = c.fetchall() #Collect all records fetched to avoid using the execute command as an iterator\n",
    "for row in rows:\n",
    "    print(row)"
   ]
  },
  {
   "cell_type": "code",
   "execution_count": 24,
   "id": "3e8d0bec-6f3a-41f2-8a98-63a7a0f3208d",
   "metadata": {},
   "outputs": [
    {
     "name": "stdout",
     "output_type": "stream",
     "text": [
      "(1, 'task55', 4)\n",
      "(2, 'do washing', 1)\n",
      "(3, 'run outside', 2)\n"
     ]
    }
   ],
   "source": [
    "c = app.c.execute('SELECT * FROM tasks')\n",
    "for row in rows:\n",
    "    rows = c.fetchone() #Collect the next record\n",
    "    print(row)"
   ]
  },
  {
   "cell_type": "code",
   "execution_count": null,
   "id": "c1c6f24b-d9dc-4493-93dc-990633e1906c",
   "metadata": {},
   "outputs": [],
   "source": []
  }
 ],
 "metadata": {
  "kernelspec": {
   "display_name": "Python 3 (ipykernel)",
   "language": "python",
   "name": "python3"
  },
  "language_info": {
   "codemirror_mode": {
    "name": "ipython",
    "version": 3
   },
   "file_extension": ".py",
   "mimetype": "text/x-python",
   "name": "python",
   "nbconvert_exporter": "python",
   "pygments_lexer": "ipython3",
   "version": "3.8.13"
  }
 },
 "nbformat": 4,
 "nbformat_minor": 5
}
