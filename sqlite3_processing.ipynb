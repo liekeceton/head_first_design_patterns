{
 "cells": [
  {
   "cell_type": "code",
   "execution_count": 1,
   "id": "8195acea-557b-423e-8e02-925de0d6e4b5",
   "metadata": {},
   "outputs": [],
   "source": [
    "import sqlite3"
   ]
  },
  {
   "cell_type": "code",
   "execution_count": 2,
   "id": "25d2b800-32ad-49d5-85f8-bd7d8b8d53a4",
   "metadata": {},
   "outputs": [],
   "source": [
    "#Create a db\n",
    "#Return the database as a Connection object\n",
    "#Takes only the name as an argument\n",
    "conn = sqlite3.connect('hello.db')"
   ]
  },
  {
   "cell_type": "code",
   "execution_count": null,
   "id": "404b79a7-5bdb-4f27-9a70-e482db496759",
   "metadata": {},
   "outputs": [],
   "source": [
    "conn = sqlite3.connect(':memory:') #Create a database in RAM"
   ]
  },
  {
   "cell_type": "code",
   "execution_count": 3,
   "id": "8d44ad69-a4aa-44a4-b4b0-91ecbfd09dc7",
   "metadata": {},
   "outputs": [
    {
     "data": {
      "text/plain": [
       "<sqlite3.Cursor at 0x21cc6fb48f0>"
      ]
     },
     "execution_count": 3,
     "metadata": {},
     "output_type": "execute_result"
    }
   ],
   "source": [
    "#Cursor objects allow any SQL statement to be executed in the database\n",
    "c = conn.cursor()\n",
    "\n",
    "#Create a table in the database named hello\n",
    "c.execute('''CREATE TABLE IF NOT EXISTS tasks (\n",
    "id INTEGER PRIMARY KEY,\n",
    "name TEXT NOT NULL,\n",
    "priority INTEGER NOT NULL\n",
    ");''')"
   ]
  },
  {
   "cell_type": "code",
   "execution_count": 4,
   "id": "0e54c0a1-3f34-4898-8b07-5225d5c69243",
   "metadata": {},
   "outputs": [],
   "source": [
    "#Insert data into the table\n",
    "\n",
    "#Id does not need to be mentioned, unique primary keys will be self-generated/are auto-incremental\n",
    "#c.execute('''INSERT INTO tasks (id, name, priority) VALUES (1, 'My first task', 1);''')\n",
    "#(?,?) format to avoid SQL injection attack?\n",
    "c.execute('INSERT INTO tasks (name, priority) VALUES (?,?)', ('My first task', 1))\n",
    "#Commit the change made\n",
    "conn.commit()"
   ]
  },
  {
   "cell_type": "code",
   "execution_count": 5,
   "id": "fe284bbd-b938-4465-a29a-d77f09ae1e4d",
   "metadata": {},
   "outputs": [],
   "source": [
    "#Use the executemany command to repeat command multiple times\n",
    "#Open the db\n",
    "c = conn.cursor()\n",
    "\n",
    "tasks = [\n",
    "    ('My first task', 1),\n",
    "    ('My second task', 5),\n",
    "    ('My third task', 10),\n",
    "]\n",
    "c.executemany('INSERT INTO tasks (name, priority) VALUES (?,?)', tasks)\n",
    "conn.commit()"
   ]
  },
  {
   "cell_type": "code",
   "execution_count": 86,
   "id": "c5ea104c-c631-4e30-8402-8060bd6ff2f4",
   "metadata": {},
   "outputs": [],
   "source": [
    "#Refactored approach\n",
    "def start_menu():\n",
    "    print('1. Show Tasks \\n2. Add Task \\n3. Change Priority \\n4. Delete Task \\n5. Exit')\n",
    "    user_choice = input('Which action do you want to perform?')\n",
    "    return user_choice\n",
    "\n",
    "class Todo:\n",
    "    def __init__(self):\n",
    "        self.conn = sqlite3.connect('todo.db')\n",
    "        self.c = self.conn.cursor()\n",
    "        self.create_task_table()\n",
    "        \n",
    "    def create_task_table(self):\n",
    "        self.c.execute('''CREATE TABLE IF NOT EXISTS tasks (\n",
    "                     id INTEGER PRIMARY KEY,\n",
    "                     name TEXT NOT NULL,\n",
    "                     priority INTEGER NOT NULL\n",
    "                     );''')\n",
    "    \n",
    "    def find_task(self, name_find):\n",
    "        c = self.c.execute('SELECT id, name, priority FROM tasks WHERE name == (?)', (name_find,))\n",
    "        rows = c.fetchall()\n",
    "        if rows == []:\n",
    "            return None\n",
    "        else:\n",
    "            return rows[0]\n",
    "        \n",
    "    def add_task(self):\n",
    "        name = input('Enter task name: ')\n",
    "        if name == '':\n",
    "            print('Nothing was entered')\n",
    "            return\n",
    "        \n",
    "        task_with_same_name = self.find_task(name)\n",
    "        if task_with_same_name != None:\n",
    "            print('There already exists a task with this name')\n",
    "            return\n",
    "        \n",
    "        priority = int(input('Enter priority: '))\n",
    "        if priority < 1:\n",
    "            print('Only priorities allowed values 1 and up')\n",
    "            return\n",
    "        \n",
    "        self.c.execute('INSERT INTO tasks (name, priority) VALUES (?,?)', (name, priority))\n",
    "        self.conn.commit()\n",
    "    \n",
    "    def show_tasks(self):\n",
    "        c = self.c.execute('SELECT id, name, priority FROM tasks')\n",
    "        rows = c.fetchall()\n",
    "        for row in rows:\n",
    "            print(row)\n",
    "        return \n",
    "    \n",
    "    def change_priority(self):\n",
    "        task_id = input('For which task do you want to change the priority? Enter id:')\n",
    "        new_priority = input('What do you want to change the priority to?')\n",
    "        if int(new_priority) < 1:\n",
    "            print('Only priorities allowed values 1 and up')\n",
    "            return\n",
    "        \n",
    "        self.c.execute('UPDATE tasks SET priority = ? WHERE id = ?', (new_priority, task_id))\n",
    "        self.conn.commit()\n",
    "        \n",
    "    def delete_task(self):\n",
    "        task_id = input('Enter task id to delete:')\n",
    "        \n",
    "        self.c.execute('DELETE FROM tasks WHERE id = ?', (task_id,))\n",
    "        self.conn.commit()"
   ]
  },
  {
   "cell_type": "code",
   "execution_count": 93,
   "id": "4e12ff75-44ca-4a9d-bd8b-7c90916eb307",
   "metadata": {},
   "outputs": [
    {
     "name": "stdout",
     "output_type": "stream",
     "text": [
      "1. Show Tasks \n",
      "2. Add Task \n",
      "3. Change Priority \n",
      "4. Delete Task \n",
      "5. Exit\n"
     ]
    },
    {
     "name": "stdin",
     "output_type": "stream",
     "text": [
      "Which action do you want to perform? 5\n"
     ]
    },
    {
     "name": "stdout",
     "output_type": "stream",
     "text": [
      "exit\n"
     ]
    }
   ],
   "source": [
    "app = Todo()\n",
    "user_choice = start_menu()\n",
    "\n",
    "if user_choice == '1':\n",
    "    app.show_tasks()\n",
    "elif user_choice == '2':\n",
    "    app.add_task()\n",
    "elif user_choice == '3':\n",
    "    app.change_priority()\n",
    "elif user_choice == '4':\n",
    "    app.delete_task()\n",
    "elif user_choice == '5':\n",
    "    print('exit')\n",
    "else:\n",
    "    print('This answer was not part of the menu')"
   ]
  },
  {
   "cell_type": "code",
   "execution_count": 80,
   "id": "d4d7a143-9129-4190-8213-178271e1494c",
   "metadata": {},
   "outputs": [
    {
     "name": "stdin",
     "output_type": "stream",
     "text": [
      "Enter task id to delete: 4\n"
     ]
    }
   ],
   "source": [
    "app.delete_task()"
   ]
  },
  {
   "cell_type": "code",
   "execution_count": 77,
   "id": "c64a4fee-2bcc-4b03-bd72-b812fa9ff79e",
   "metadata": {},
   "outputs": [
    {
     "name": "stdin",
     "output_type": "stream",
     "text": [
      "For which task do you want to change the priority? Enter id: 2\n",
      "What do you want to change the priority to? 100\n"
     ]
    }
   ],
   "source": [
    "app.change_priority()"
   ]
  },
  {
   "cell_type": "code",
   "execution_count": 71,
   "id": "957dee52-d4b5-4323-9abc-85e90e5895c3",
   "metadata": {},
   "outputs": [],
   "source": [
    "c = app.c\n",
    "c.execute('UPDATE tasks SET priority = ?', (20, ))\n",
    "app.conn.commit()"
   ]
  },
  {
   "cell_type": "code",
   "execution_count": 73,
   "id": "1e840c6b-2c2d-419a-8f1a-4fef80f800c5",
   "metadata": {},
   "outputs": [],
   "source": [
    "c.execute('DELETE FROM tasks WHERE id = ?', (1,)) #Ensure a tuple when only inserting one variable\n",
    "app.conn.commit()"
   ]
  },
  {
   "cell_type": "code",
   "execution_count": 69,
   "id": "7e891b3d-34fb-4417-bc88-53c234b29a68",
   "metadata": {},
   "outputs": [
    {
     "name": "stdin",
     "output_type": "stream",
     "text": [
      "Enter task name:  hi\n",
      "Enter priority:  5\n"
     ]
    }
   ],
   "source": [
    "app.add_task()"
   ]
  },
  {
   "cell_type": "code",
   "execution_count": 81,
   "id": "e4d2825a-2ffa-4bd1-a5ab-c3b0b753fdc2",
   "metadata": {},
   "outputs": [
    {
     "name": "stdout",
     "output_type": "stream",
     "text": [
      "(2, 'do washing', 100)\n",
      "(3, 'run outside', 20)\n",
      "(5, 'helpie', 20)\n",
      "(6, '1', 20)\n",
      "(7, 'help', 20)\n",
      "(8, 'lala', 20)\n",
      "(9, 'x', 20)\n",
      "(10, 'ff', 20)\n",
      "(11, 'hi', 20)\n"
     ]
    }
   ],
   "source": [
    "app.show_tasks()"
   ]
  },
  {
   "cell_type": "code",
   "execution_count": 4,
   "id": "b0b159b8-7540-4887-ac14-76c23113e05a",
   "metadata": {},
   "outputs": [
    {
     "name": "stdin",
     "output_type": "stream",
     "text": [
      "Enter task name:  helpie\n",
      "Enter priority:  5\n"
     ]
    }
   ],
   "source": [
    "app.add_task()"
   ]
  },
  {
   "cell_type": "code",
   "execution_count": 5,
   "id": "65a6919e-6207-4206-94af-eef4a1b43e11",
   "metadata": {},
   "outputs": [
    {
     "name": "stdout",
     "output_type": "stream",
     "text": [
      "(1, 'task55', 4)\n",
      "(2, 'do washing', 1)\n",
      "(3, 'run outside', 2)\n",
      "(4, 'test', 2)\n",
      "(5, 'helpie', 5)\n"
     ]
    }
   ],
   "source": [
    "#Reading data using the SELECT command\n",
    "for row in app.c.execute('''SELECT * FROM tasks;'''):\n",
    "    print(row)"
   ]
  },
  {
   "cell_type": "code",
   "execution_count": 6,
   "id": "a48203b4-8c48-4b12-8dd1-6d966b274443",
   "metadata": {},
   "outputs": [
    {
     "name": "stdout",
     "output_type": "stream",
     "text": [
      "(1, 'task55', 4)\n",
      "(2, 'do washing', 1)\n",
      "(3, 'run outside', 2)\n",
      "(4, 'test', 2)\n",
      "(5, 'helpie', 5)\n"
     ]
    }
   ],
   "source": [
    "c = app.c.execute('SELECT * FROM tasks')\n",
    "rows = c.fetchall() #Collect all records fetched to avoid using the execute command as an iterator\n",
    "for row in rows:\n",
    "    print(row)"
   ]
  },
  {
   "cell_type": "code",
   "execution_count": 7,
   "id": "3e8d0bec-6f3a-41f2-8a98-63a7a0f3208d",
   "metadata": {},
   "outputs": [
    {
     "name": "stdout",
     "output_type": "stream",
     "text": [
      "(1, 'task55', 4)\n",
      "(2, 'do washing', 1)\n",
      "(3, 'run outside', 2)\n",
      "(4, 'test', 2)\n",
      "(5, 'helpie', 5)\n"
     ]
    }
   ],
   "source": [
    "c = app.c.execute('SELECT * FROM tasks')\n",
    "for row in rows:\n",
    "    rows = c.fetchone() #Collect the next record\n",
    "    print(row)"
   ]
  },
  {
   "cell_type": "code",
   "execution_count": 26,
   "id": "c1c6f24b-d9dc-4493-93dc-990633e1906c",
   "metadata": {},
   "outputs": [
    {
     "data": {
      "text/plain": [
       "[(2, 'do washing')]"
      ]
     },
     "execution_count": 26,
     "metadata": {},
     "output_type": "execute_result"
    }
   ],
   "source": [
    "id_find = 2\n",
    "\n",
    "c = app.c.execute('SELECT id, name FROM tasks WHERE id == ?', str(id_find))\n",
    "rows = c.fetchall()\n",
    "names = [x[0] for x in rows]\n",
    "rows\n",
    "# if find_name in names:\n",
    "#     return "
   ]
  },
  {
   "cell_type": "code",
   "execution_count": 46,
   "id": "fa9047bf-ddbb-4660-abc6-776a3f12a2c6",
   "metadata": {},
   "outputs": [
    {
     "data": {
      "text/plain": [
       "(4, 'test', 2)"
      ]
     },
     "execution_count": 46,
     "metadata": {},
     "output_type": "execute_result"
    }
   ],
   "source": [
    "name_find = 'test'\n",
    "\n",
    "def find_task(name_find):\n",
    "    c = app.c.execute('SELECT id, name, priority FROM tasks WHERE name == (?)', (name_find,))\n",
    "    rows = c.fetchall()\n",
    "    if rows == []:\n",
    "        return None\n",
    "    else:\n",
    "        return rows[0]\n",
    "    \n",
    "find_task(name_find)"
   ]
  },
  {
   "cell_type": "code",
   "execution_count": null,
   "id": "e444a59a-de44-42e1-a7c2-7a01f3d85e74",
   "metadata": {},
   "outputs": [],
   "source": []
  },
  {
   "cell_type": "code",
   "execution_count": null,
   "id": "9f2228fc-781c-44f5-9dfc-6c5b21b13c76",
   "metadata": {},
   "outputs": [],
   "source": []
  }
 ],
 "metadata": {
  "kernelspec": {
   "display_name": "Python 3 (ipykernel)",
   "language": "python",
   "name": "python3"
  },
  "language_info": {
   "codemirror_mode": {
    "name": "ipython",
    "version": 3
   },
   "file_extension": ".py",
   "mimetype": "text/x-python",
   "name": "python",
   "nbconvert_exporter": "python",
   "pygments_lexer": "ipython3",
   "version": "3.8.13"
  }
 },
 "nbformat": 4,
 "nbformat_minor": 5
}
