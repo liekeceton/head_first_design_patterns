{
 "cells": [
  {
   "cell_type": "code",
   "execution_count": 2,
   "id": "eafab5a5-85d7-44c8-a3e9-283eef987400",
   "metadata": {},
   "outputs": [],
   "source": [
    "import xml.etree.ElementTree as ET"
   ]
  },
  {
   "cell_type": "code",
   "execution_count": 7,
   "id": "0937004f-d57e-4f30-af54-1579d7195fa4",
   "metadata": {},
   "outputs": [
    {
     "name": "stdout",
     "output_type": "stream",
     "text": [
      "The root tag is: data\n",
      "The root has the following children:\n",
      "book {'title': 'The Little Prince'}\n",
      "book {'title': 'Hamlet'}\n"
     ]
    }
   ],
   "source": [
    "#Module file processing\n",
    "\n",
    "tree = ET.parse('books.xml')\n",
    "root = tree.getroot()\n",
    "\n",
    "print('The root tag is:', root.tag)\n",
    "print('The root has the following children:')\n",
    "for child in root:\n",
    "    print(child.tag, child.attrib)"
   ]
  },
  {
   "cell_type": "code",
   "execution_count": 8,
   "id": "418451b7-9c1c-4b39-a4e5-8ca310ce09f8",
   "metadata": {},
   "outputs": [
    {
     "name": "stdout",
     "output_type": "stream",
     "text": [
      "My books:\n",
      "\n",
      "Title:  The Little Prince\n",
      "Author: Antoine de Saint-Exupéry\n",
      "Year:  1943 \n",
      "\n",
      "Title:  Hamlet\n",
      "Author: William Shakespeare\n",
      "Year:  1603 \n",
      "\n"
     ]
    }
   ],
   "source": [
    "print(\"My books:\\n\")\n",
    "for book in root:\n",
    "    print('Title: ', book.attrib['title'])\n",
    "    print('Author:', book[0].text)\n",
    "    print('Year: ', book[1].text, '\\n')"
   ]
  },
  {
   "cell_type": "code",
   "execution_count": 9,
   "id": "14b0a036-a2cb-484b-b999-7514a7763cd8",
   "metadata": {},
   "outputs": [
    {
     "name": "stdout",
     "output_type": "stream",
     "text": [
      "Antoine de Saint-Exupéry\n",
      "William Shakespeare\n"
     ]
    }
   ],
   "source": [
    "#.iter()\n",
    "for author in root.iter('author'):\n",
    "    print(author.text)"
   ]
  },
  {
   "cell_type": "code",
   "execution_count": 17,
   "id": "6854f107-99df-48fb-ad9b-fe92a3c97b6c",
   "metadata": {},
   "outputs": [
    {
     "name": "stdout",
     "output_type": "stream",
     "text": [
      "The Little Prince\n",
      "Hamlet\n"
     ]
    }
   ],
   "source": [
    "#.findall()\n",
    "for book in root.findall('book'):\n",
    "    print(book.get('title'))"
   ]
  },
  {
   "cell_type": "code",
   "execution_count": 18,
   "id": "a98d16fd-ebd3-4174-ae90-fe2cfa0ba3b5",
   "metadata": {},
   "outputs": [
    {
     "name": "stdout",
     "output_type": "stream",
     "text": [
      "The Little Prince\n"
     ]
    }
   ],
   "source": [
    "#.find()\n",
    "print(root.find('book').get('title'))"
   ]
  },
  {
   "cell_type": "code",
   "execution_count": 4,
   "id": "f215ee26-b5a8-4c4a-b6db-46e12a172fc4",
   "metadata": {},
   "outputs": [],
   "source": [
    "#How to handle XML files as tree structures\n",
    "\n",
    "#Load the XML file\n",
    "tree = ET.parse('cars.xml')\n",
    "cars_for_sale = tree.getroot()\n",
    "\n",
    "#Remove a tag\n",
    "for car in cars_for_sale.findall('car'):\n",
    "    if car.find('brand').text == 'Ford' and car.find('model').text == 'Mustang':\n",
    "        cars_for_sale.remove(car)\n",
    "        break\n",
    "\n",
    "#Add a new tag        \n",
    "new_car = ET.Element('car')\n",
    "ET.SubElement(new_car, 'id').text = '4'\n",
    "ET.SubElement(new_car, 'brand').text = 'Maserati'\n",
    "ET.SubElement(new_car, 'model').text = 'Mexico'\n",
    "ET.SubElement(new_car, 'production_year').text = '1970'\n",
    "ET.SubElement(new_car, 'price', {'currency': 'EUR'}).text = '61810'\n",
    "cars_for_sale.append(new_car)\n",
    "\n",
    "#Write a new XML file\n",
    "tree.write('newcars.xml', method='')"
   ]
  },
  {
   "cell_type": "code",
   "execution_count": 22,
   "id": "9adb0ce9-3cf1-4e55-84e8-d19d7012912f",
   "metadata": {},
   "outputs": [
    {
     "name": "stdout",
     "output_type": "stream",
     "text": [
      "cars_for_sale\n",
      "\t car\n",
      "\t\t id = 2\n",
      "\t\t brand = Aston Martin\n",
      "\t\t model = Rapide\n",
      "\t\t production_year = 2010\n",
      "\t\t price{'currency': 'GBP'} = 32000\n",
      "\t car\n",
      "\t\t id = 4\n",
      "\t\t brand = Maserati\n",
      "\t\t model = Mexico\n",
      "\t\t production_year = 1970\n",
      "\t\t price{'currency': 'EUR'} = 61810\n"
     ]
    }
   ],
   "source": [
    "#Print the file\n",
    "cars_for_sale = xml.etree.ElementTree.parse('newcars.xml').getroot()\n",
    "print(cars_for_sale.tag)\n",
    "for car in cars_for_sale.findall('car'):\n",
    "    print('\\t', car.tag)\n",
    "    for prop in car:\n",
    "        print('\\t\\t', prop.tag, end='')\n",
    "        if prop.tag == 'price':\n",
    "            print(prop.attrib, end='')\n",
    "        print(' =', prop.text)"
   ]
  },
  {
   "cell_type": "code",
   "execution_count": 21,
   "id": "afb937ef-e79b-4171-8656-0a120250d433",
   "metadata": {},
   "outputs": [
    {
     "data": {
      "text/plain": [
       "<Element 'cars_for_sale' at 0x000001FD0FAB0310>"
      ]
     },
     "execution_count": 21,
     "metadata": {},
     "output_type": "execute_result"
    }
   ],
   "source": [
    "cars_for_sale"
   ]
  },
  {
   "cell_type": "code",
   "execution_count": null,
   "id": "bf22166e-eddf-4857-8643-28dd4c015d7c",
   "metadata": {},
   "outputs": [],
   "source": []
  }
 ],
 "metadata": {
  "kernelspec": {
   "display_name": "Python 3 (ipykernel)",
   "language": "python",
   "name": "python3"
  },
  "language_info": {
   "codemirror_mode": {
    "name": "ipython",
    "version": 3
   },
   "file_extension": ".py",
   "mimetype": "text/x-python",
   "name": "python",
   "nbconvert_exporter": "python",
   "pygments_lexer": "ipython3",
   "version": "3.8.13"
  }
 },
 "nbformat": 4,
 "nbformat_minor": 5
}
