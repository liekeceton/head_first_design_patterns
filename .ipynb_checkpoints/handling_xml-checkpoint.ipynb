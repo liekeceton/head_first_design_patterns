{
 "cells": [
  {
   "cell_type": "code",
   "execution_count": 19,
   "id": "f215ee26-b5a8-4c4a-b6db-46e12a172fc4",
   "metadata": {},
   "outputs": [],
   "source": [
    "#How to handle XML files as tree structures\n",
    "\n",
    "#Load the XML file\n",
    "tree = xml.etree.ElementTree.parse('cars.xml')\n",
    "cars_for_sale = tree.getroot()\n",
    "\n",
    "#Remove a tag\n",
    "for car in cars_for_sale.findall('car'):\n",
    "    if car.find('brand').text == 'Ford' and car.find('model').text == 'Mustang':\n",
    "        cars_for_sale.remove(car)\n",
    "        break\n",
    "\n",
    "#Add a new tag        \n",
    "new_car = xml.etree.ElementTree.Element('car')\n",
    "xml.etree.ElementTree.SubElement(new_car, 'id').text = '4'\n",
    "xml.etree.ElementTree.SubElement(new_car, 'brand').text = 'Maserati'\n",
    "xml.etree.ElementTree.SubElement(new_car, 'model').text = 'Mexico'\n",
    "xml.etree.ElementTree.SubElement(new_car, 'production_year').text = '1970'\n",
    "xml.etree.ElementTree.SubElement(new_car, 'price', {'currency': 'EUR'}).text = '61810'\n",
    "cars_for_sale.append(new_car)\n",
    "\n",
    "#Write a new XML file\n",
    "tree.write('newcars.xml', method='')"
   ]
  },
  {
   "cell_type": "code",
   "execution_count": 22,
   "id": "9adb0ce9-3cf1-4e55-84e8-d19d7012912f",
   "metadata": {},
   "outputs": [
    {
     "name": "stdout",
     "output_type": "stream",
     "text": [
      "cars_for_sale\n",
      "\t car\n",
      "\t\t id = 2\n",
      "\t\t brand = Aston Martin\n",
      "\t\t model = Rapide\n",
      "\t\t production_year = 2010\n",
      "\t\t price{'currency': 'GBP'} = 32000\n",
      "\t car\n",
      "\t\t id = 4\n",
      "\t\t brand = Maserati\n",
      "\t\t model = Mexico\n",
      "\t\t production_year = 1970\n",
      "\t\t price{'currency': 'EUR'} = 61810\n"
     ]
    }
   ],
   "source": [
    "#Print the file\n",
    "cars_for_sale = xml.etree.ElementTree.parse('newcars.xml').getroot()\n",
    "print(cars_for_sale.tag)\n",
    "for car in cars_for_sale.findall('car'):\n",
    "    print('\\t', car.tag)\n",
    "    for prop in car:\n",
    "        print('\\t\\t', prop.tag, end='')\n",
    "        if prop.tag == 'price':\n",
    "            print(prop.attrib, end='')\n",
    "        print(' =', prop.text)"
   ]
  },
  {
   "cell_type": "code",
   "execution_count": 21,
   "id": "afb937ef-e79b-4171-8656-0a120250d433",
   "metadata": {},
   "outputs": [
    {
     "data": {
      "text/plain": [
       "<Element 'cars_for_sale' at 0x000001FD0FAB0310>"
      ]
     },
     "execution_count": 21,
     "metadata": {},
     "output_type": "execute_result"
    }
   ],
   "source": [
    "cars_for_sale"
   ]
  },
  {
   "cell_type": "code",
   "execution_count": null,
   "id": "eafab5a5-85d7-44c8-a3e9-283eef987400",
   "metadata": {},
   "outputs": [],
   "source": []
  }
 ],
 "metadata": {
  "kernelspec": {
   "display_name": "Python 3 (ipykernel)",
   "language": "python",
   "name": "python3"
  },
  "language_info": {
   "codemirror_mode": {
    "name": "ipython",
    "version": 3
   },
   "file_extension": ".py",
   "mimetype": "text/x-python",
   "name": "python",
   "nbconvert_exporter": "python",
   "pygments_lexer": "ipython3",
   "version": "3.8.13"
  }
 },
 "nbformat": 4,
 "nbformat_minor": 5
}
