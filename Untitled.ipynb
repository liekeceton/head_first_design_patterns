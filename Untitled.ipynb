{
 "cells": [
  {
   "cell_type": "code",
   "execution_count": 2,
   "id": "466118aa-386f-4220-a0ee-bc51393d4195",
   "metadata": {},
   "outputs": [
    {
     "name": "stdout",
     "output_type": "stream",
     "text": [
      "48\n"
     ]
    }
   ],
   "source": [
    "import calendar\n",
    "\n",
    "class MyCalendar(calendar.Calendar):\n",
    "    def count_weekday_in_year(self, year, weekday):\n",
    "        count_days = 0\n",
    "        months = list(range(1,12))\n",
    "\n",
    "        for month in months:\n",
    "            for data in c.monthdays2calendar(year, month):\n",
    "                for day in data:\n",
    "                    if day[0] != 0 and day[1] == weekday:\n",
    "                        count_days += 1\n",
    "        return count_days\n",
    "\n",
    "c = MyCalendar()\n",
    "count_days = c.count_weekday_in_year(year=1029, weekday=3)\n",
    "\n",
    "print(count_days)"
   ]
  },
  {
   "cell_type": "code",
   "execution_count": 3,
   "id": "33d9a99f-0429-4437-a2d7-3e1022642d10",
   "metadata": {},
   "outputs": [
    {
     "data": {
      "text/plain": [
       "'acl'"
      ]
     },
     "execution_count": 3,
     "metadata": {},
     "output_type": "execute_result"
    }
   ],
   "source": [
    "s = 'abcjlk'\n",
    "s[::2]"
   ]
  },
  {
   "cell_type": "code",
   "execution_count": 6,
   "id": "822329fa-be6f-4407-8653-b9e681aa1246",
   "metadata": {},
   "outputs": [
    {
     "ename": "SyntaxError",
     "evalue": "default 'except:' must be last (2807686678.py, line 2)",
     "output_type": "error",
     "traceback": [
      "\u001b[1;36m  Input \u001b[1;32mIn [6]\u001b[1;36m\u001b[0m\n\u001b[1;33m    raise Exception\u001b[0m\n\u001b[1;37m    ^\u001b[0m\n\u001b[1;31mSyntaxError\u001b[0m\u001b[1;31m:\u001b[0m default 'except:' must be last\n"
     ]
    }
   ],
   "source": [
    "try:\n",
    "    raise Exception\n",
    "except:\n",
    "    print('c')\n",
    "except BaseException:\n",
    "    print('b')"
   ]
  },
  {
   "cell_type": "code",
   "execution_count": 8,
   "id": "c727a907-a2b4-4aee-98ec-49b87ea59745",
   "metadata": {},
   "outputs": [
    {
     "ename": "SyntaxError",
     "evalue": "EOL while scanning string literal (865656131.py, line 1)",
     "output_type": "error",
     "traceback": [
      "\u001b[1;36m  Input \u001b[1;32mIn [8]\u001b[1;36m\u001b[0m\n\u001b[1;33m    print(len('\\\\\\'))\u001b[0m\n\u001b[1;37m                     ^\u001b[0m\n\u001b[1;31mSyntaxError\u001b[0m\u001b[1;31m:\u001b[0m EOL while scanning string literal\n"
     ]
    }
   ],
   "source": [
    "print(len('\\\\\\'))"
   ]
  },
  {
   "cell_type": "code",
   "execution_count": 7,
   "id": "3288a016-ad07-4e3f-b1a9-6daa43e64e17",
   "metadata": {},
   "outputs": [
    {
     "name": "stdout",
     "output_type": "stream",
     "text": [
      "1.3\n"
     ]
    }
   ],
   "source": [
    "print(float(\"1.3\"))"
   ]
  },
  {
   "cell_type": "code",
   "execution_count": 21,
   "id": "6ca0368e-ad97-4069-a27c-3e8519d1b9a5",
   "metadata": {},
   "outputs": [
    {
     "name": "stdin",
     "output_type": "stream",
     "text": [
      "Enter the source file name:  x\n"
     ]
    },
    {
     "name": "stdout",
     "output_type": "stream",
     "text": [
      "No such file or directory\n",
      "\n"
     ]
    }
   ],
   "source": [
    "from os import strerror\n",
    "\n",
    "try:\n",
    "    srcname = input(\"Enter the source file name: \")\n",
    "    s = open(srcname+'.txt')\n",
    "except:\n",
    "    print('No such file or directory')\n",
    "\n",
    "ch = s.read(1)\n",
    "print(ch)\n",
    "while ch != '':\n",
    "    ch = s.read(1)\n",
    "    print(ch)"
   ]
  },
  {
   "cell_type": "code",
   "execution_count": 28,
   "id": "6a4a0bfa-3db1-4169-b108-983f3f819e6c",
   "metadata": {},
   "outputs": [
    {
     "name": "stdout",
     "output_type": "stream",
     "text": [
      "uname_result(system='Windows', node='Laptop_Lieke', release='10', version='10.0.22000', machine='AMD64', processor='Intel64 Family 6 Model 141 Stepping 1, GenuineIntel')\n",
      "nt\n"
     ]
    }
   ],
   "source": [
    "import os, platform\n",
    "print(platform.uname())\n",
    "print(os.name)"
   ]
  },
  {
   "cell_type": "code",
   "execution_count": 29,
   "id": "75e723e9-fc69-4f75-b538-96271f7adbb6",
   "metadata": {},
   "outputs": [
    {
     "name": "stdout",
     "output_type": "stream",
     "text": [
      "['.git', '.ipynb_checkpoints', 'Extrapack ZIP file', 'Extrapack ZIP file.zip', 'modules', 'Modules and Packages ZIP file.zip', 'my_first_directory', 'packages', 'progs', 'README.md', 'strategy_pattern.ipynb', 'test.txt', 'text.txt', 'Untitled.ipynb', 'Untitled1.ipynb', '__pycache__']\n"
     ]
    }
   ],
   "source": [
    "os.mkdir(\"my_first_directory\")\n",
    "print(os.listdir())"
   ]
  },
  {
   "cell_type": "code",
   "execution_count": 30,
   "id": "04c92b03-5fe0-4ee1-9b40-39c9517f1f60",
   "metadata": {},
   "outputs": [
    {
     "name": "stdout",
     "output_type": "stream",
     "text": [
      "['my_second_directory']\n"
     ]
    }
   ],
   "source": [
    "os.makedirs(\"my_first_directory/my_second_directory\")\n",
    "os.chdir(\"my_first_directory\")\n",
    "print(os.listdir())"
   ]
  },
  {
   "cell_type": "code",
   "execution_count": 41,
   "id": "68250807-0302-4c31-9d06-75c6f3f1ae87",
   "metadata": {},
   "outputs": [
    {
     "name": "stdout",
     "output_type": "stream",
     "text": [
      "C:\\Users\\LiekeCeton\\Projects\\Education\n"
     ]
    }
   ],
   "source": [
    "print(os.getcwd())"
   ]
  },
  {
   "cell_type": "code",
   "execution_count": 35,
   "id": "c7ea0e52-9eab-45c4-bfe9-9e257af35fe2",
   "metadata": {},
   "outputs": [
    {
     "name": "stdout",
     "output_type": "stream",
     "text": [
      "C:\\Users\\LiekeCeton\\Projects\\Education\n"
     ]
    }
   ],
   "source": [
    "os.chdir('Education')\n",
    "print(os.getcwd())"
   ]
  },
  {
   "cell_type": "code",
   "execution_count": 39,
   "id": "3ef5ca6c-875b-483e-9292-d85c7016b439",
   "metadata": {},
   "outputs": [],
   "source": [
    "os.rmdir(\"my_first_directory\")"
   ]
  },
  {
   "cell_type": "code",
   "execution_count": 40,
   "id": "f8564309-36e2-469e-b2ce-99ad9c30d850",
   "metadata": {},
   "outputs": [
    {
     "name": "stdout",
     "output_type": "stream",
     "text": [
      "0\n"
     ]
    }
   ],
   "source": [
    "returned_value = os.system(\"mkdir my_first_directory\")\n",
    "print(returned_value)"
   ]
  },
  {
   "cell_type": "code",
   "execution_count": 1,
   "id": "d9015fe7-309f-4823-9e95-b7690e975116",
   "metadata": {},
   "outputs": [],
   "source": [
    "#PCEPP1 preparation"
   ]
  },
  {
   "cell_type": "code",
   "execution_count": 8,
   "id": "0f180f32-f5f6-4eb6-8aa3-626cafa9ddc8",
   "metadata": {},
   "outputs": [
    {
     "name": "stdout",
     "output_type": "stream",
     "text": [
      "Beautiful is better than ugly.\n",
      "Explicit is better than implicit.\n",
      "Simple is better than complex.\n",
      "Complex is better than complicated.\n",
      "\n",
      "Characters in file: 131\n"
     ]
    }
   ],
   "source": [
    "from os import strerror\n",
    "\n",
    "try:\n",
    "    cnt = 0\n",
    "    s = open('text.txt', \"rt\")\n",
    "    ch = s.read(1)\n",
    "    while ch != '': #The iteration is here?\n",
    "        print(ch, end='') #Where is the count integrated with the character?\n",
    "        cnt += 1 \n",
    "        ch = s.read(1) #Here it is printed? Its here the iteration! Read acts as a generator\n",
    "    s.close()\n",
    "    print(\"\\n\\nCharacters in file:\", cnt)\n",
    "except IOError as e:\n",
    "    print(\"I/O error occurred: \", strerror(e.errno))\n"
   ]
  },
  {
   "cell_type": "code",
   "execution_count": 18,
   "id": "abf129b8-4c8a-409c-8d4f-f2fc5e1f71c3",
   "metadata": {},
   "outputs": [
    {
     "name": "stdout",
     "output_type": "stream",
     "text": [
      "[0, 1, 4, 9, 16, 25, 36, 49, 64, 81]\n",
      "[0, 1, 4, 9, 16, 25, 36, 49, 64, 81]\n",
      "[0, 1, 4, 9, 16, 25, 36, 49, 64, 81]\n"
     ]
    }
   ],
   "source": [
    "#Lambda and list comprehensions\n",
    "\n",
    "print([(lambda x: x*x)(x) for x in range(10)]) #Lambda onto generator\n",
    "\n",
    "print([x*x for x in range(10)]) \n",
    "\n",
    "print(list(map(lambda x: x*x, range(10))))\n"
   ]
  },
  {
   "cell_type": "code",
   "execution_count": 10,
   "id": "d1e8e144-be85-4afa-bf90-01c70a7436f5",
   "metadata": {},
   "outputs": [
    {
     "name": "stdout",
     "output_type": "stream",
     "text": [
      "0 0\n"
     ]
    }
   ],
   "source": [
    "class A():\n",
    "    def __init__(self):\n",
    "        self.v = 0\n",
    "        \n",
    "class A2():\n",
    "    v = 0\n",
    "    \n",
    "a = A()\n",
    "atwo = A2()\n",
    "print(a.v, atwo.v)"
   ]
  },
  {
   "cell_type": "code",
   "execution_count": 15,
   "id": "6094f303-761c-408c-9735-034856c431f6",
   "metadata": {},
   "outputs": [
    {
     "name": "stdout",
     "output_type": "stream",
     "text": [
      "a\n",
      "b\n"
     ]
    }
   ],
   "source": [
    "try:\n",
    "    x = 1/0\n",
    "except:\n",
    "    print('a')\n",
    "finally:\n",
    "    print('b')"
   ]
  },
  {
   "cell_type": "code",
   "execution_count": 1,
   "id": "26f8c5fb-e79e-48a4-a5f0-5f28e6629aff",
   "metadata": {},
   "outputs": [
    {
     "name": "stdout",
     "output_type": "stream",
     "text": [
      "BaseException\n",
      "   +---Exception\n",
      "   |   +---TypeError\n",
      "   |   |   +---FloatOperation\n",
      "   |   |   +---MultipartConversionError\n",
      "   |   +---StopAsyncIteration\n",
      "   |   +---StopIteration\n",
      "   |   +---ImportError\n",
      "   |   |   +---ModuleNotFoundError\n",
      "   |   |   |   +---PackageNotFoundError\n",
      "   |   |   |   +---PackageNotFoundError\n",
      "   |   |   +---ZipImportError\n",
      "   |   +---OSError\n",
      "   |   |   +---ConnectionError\n",
      "   |   |   |   +---BrokenPipeError\n",
      "   |   |   |   +---ConnectionAbortedError\n",
      "   |   |   |   +---ConnectionRefusedError\n",
      "   |   |   |   +---ConnectionResetError\n",
      "   |   |   |   |   +---RemoteDisconnected\n",
      "   |   |   +---BlockingIOError\n",
      "   |   |   +---ChildProcessError\n",
      "   |   |   +---FileExistsError\n",
      "   |   |   +---FileNotFoundError\n",
      "   |   |   +---IsADirectoryError\n",
      "   |   |   +---NotADirectoryError\n",
      "   |   |   +---InterruptedError\n",
      "   |   |   |   +---InterruptedSystemCall\n",
      "   |   |   +---PermissionError\n",
      "   |   |   +---ProcessLookupError\n",
      "   |   |   +---TimeoutError\n",
      "   |   |   +---UnsupportedOperation\n",
      "   |   |   +---herror\n",
      "   |   |   +---gaierror\n",
      "   |   |   +---timeout\n",
      "   |   |   +---SSLError\n",
      "   |   |   |   +---SSLCertVerificationError\n",
      "   |   |   |   +---SSLZeroReturnError\n",
      "   |   |   |   +---SSLWantReadError\n",
      "   |   |   |   +---SSLWantWriteError\n",
      "   |   |   |   +---SSLSyscallError\n",
      "   |   |   |   +---SSLEOFError\n",
      "   |   |   +---Error\n",
      "   |   |   |   +---SameFileError\n",
      "   |   |   +---SpecialFileError\n",
      "   |   |   +---ExecError\n",
      "   |   |   +---ReadError\n",
      "   |   |   +---URLError\n",
      "   |   |   |   +---HTTPError\n",
      "   |   |   |   +---ContentTooShortError\n",
      "   |   |   +---BadGzipFile\n",
      "   |   +---EOFError\n",
      "   |   |   +---IncompleteReadError\n",
      "   |   +---RuntimeError\n",
      "   |   |   +---RecursionError\n",
      "   |   |   +---NotImplementedError\n",
      "   |   |   |   +---ZMQVersionError\n",
      "   |   |   |   +---StdinNotImplementedError\n",
      "   |   |   +---_DeadlockError\n",
      "   |   |   +---BrokenBarrierError\n",
      "   |   |   +---BrokenExecutor\n",
      "   |   |   |   +---BrokenThreadPool\n",
      "   |   |   +---SendfileNotAvailableError\n",
      "   |   |   +---ExtractionError\n",
      "   |   |   +---RemovedCommandError\n",
      "   |   |   +---PackageDiscoveryError\n",
      "   |   |   +---VariableError\n",
      "   |   +---NameError\n",
      "   |   |   +---UnboundLocalError\n",
      "   |   +---AttributeError\n",
      "   |   +---SyntaxError\n",
      "   |   |   +---IndentationError\n",
      "   |   |   |   +---TabError\n",
      "   |   +---LookupError\n",
      "   |   |   +---IndexError\n",
      "   |   |   +---KeyError\n",
      "   |   |   |   +---NoSuchKernel\n",
      "   |   |   |   +---UnknownBackend\n",
      "   |   |   +---CodecRegistryError\n",
      "   |   +---ValueError\n",
      "   |   |   +---UnicodeError\n",
      "   |   |   |   +---UnicodeEncodeError\n",
      "   |   |   |   +---UnicodeDecodeError\n",
      "   |   |   |   +---UnicodeTranslateError\n",
      "   |   |   +---UnsupportedOperation\n",
      "   |   |   +---JSONDecodeError\n",
      "   |   |   +---SSLCertVerificationError\n",
      "   |   |   +---Error\n",
      "   |   |   +---IllegalMonthError\n",
      "   |   |   +---IllegalWeekdayError\n",
      "   |   |   +---ParserError\n",
      "   |   |   +---ClassNotFound\n",
      "   |   |   +---ClipboardEmpty\n",
      "   |   |   +---MessageDefect\n",
      "   |   |   |   +---NoBoundaryInMultipartDefect\n",
      "   |   |   |   +---StartBoundaryNotFoundDefect\n",
      "   |   |   |   +---CloseBoundaryNotFoundDefect\n",
      "   |   |   |   +---FirstHeaderLineIsContinuationDefect\n",
      "   |   |   |   +---MisplacedEnvelopeHeaderDefect\n",
      "   |   |   |   +---MissingHeaderBodySeparatorDefect\n",
      "   |   |   |   +---MultipartInvariantViolationDefect\n",
      "   |   |   |   +---InvalidMultipartContentTransferEncodingDefect\n",
      "   |   |   |   +---UndecodableBytesDefect\n",
      "   |   |   |   +---InvalidBase64PaddingDefect\n",
      "   |   |   |   +---InvalidBase64CharactersDefect\n",
      "   |   |   |   +---InvalidBase64LengthDefect\n",
      "   |   |   |   +---HeaderDefect\n",
      "   |   |   |   |   +---InvalidHeaderDefect\n",
      "   |   |   |   |   +---HeaderMissingRequiredValue\n",
      "   |   |   |   |   +---NonPrintableDefect\n",
      "   |   |   |   |   +---ObsoleteHeaderDefect\n",
      "   |   |   |   |   +---NonASCIILocalPartDefect\n",
      "   |   |   +---MacroToEdit\n",
      "   |   |   +---InvalidFileException\n",
      "   |   |   +---UnequalIterablesError\n",
      "   |   |   +---InvalidVersion\n",
      "   |   |   +---_InvalidELFFileHeader\n",
      "   |   |   +---InvalidWheelFilename\n",
      "   |   |   +---InvalidSdistFilename\n",
      "   |   |   +---InvalidSpecifier\n",
      "   |   |   +---InvalidMarker\n",
      "   |   |   +---UndefinedComparison\n",
      "   |   |   +---UndefinedEnvironmentName\n",
      "   |   |   +---InvalidRequirement\n",
      "   |   |   |   +---RequirementParseError\n",
      "   |   |   +---UnequalIterablesError\n",
      "   |   |   +---_InvalidELFFileHeader\n",
      "   |   |   +---InvalidVersion\n",
      "   |   |   +---InvalidWheelFilename\n",
      "   |   |   +---InvalidSdistFilename\n",
      "   |   |   +---InvalidSpecifier\n",
      "   |   |   +---InvalidMarker\n",
      "   |   |   +---UndefinedComparison\n",
      "   |   |   +---UndefinedEnvironmentName\n",
      "   |   |   +---InvalidRequirement\n",
      "   |   +---AssertionError\n",
      "   |   +---ArithmeticError\n",
      "   |   |   +---FloatingPointError\n",
      "   |   |   +---OverflowError\n",
      "   |   |   +---ZeroDivisionError\n",
      "   |   |   |   +---DivisionByZero\n",
      "   |   |   |   +---DivisionUndefined\n",
      "   |   |   +---DecimalException\n",
      "   |   |   |   +---Clamped\n",
      "   |   |   |   +---Rounded\n",
      "   |   |   |   |   +---Underflow\n",
      "   |   |   |   |   +---Overflow\n",
      "   |   |   |   +---Inexact\n",
      "   |   |   |   |   +---Underflow\n",
      "   |   |   |   |   +---Overflow\n",
      "   |   |   |   +---Subnormal\n",
      "   |   |   |   |   +---Underflow\n",
      "   |   |   |   +---DivisionByZero\n",
      "   |   |   |   +---FloatOperation\n",
      "   |   |   |   +---InvalidOperation\n",
      "   |   |   |   |   +---ConversionSyntax\n",
      "   |   |   |   |   +---DivisionImpossible\n",
      "   |   |   |   |   +---DivisionUndefined\n",
      "   |   |   |   |   +---InvalidContext\n",
      "   |   +---SystemError\n",
      "   |   |   +---CodecRegistryError\n",
      "   |   +---ReferenceError\n",
      "   |   +---MemoryError\n",
      "   |   +---BufferError\n",
      "   |   +---Warning\n",
      "   |   |   +---UserWarning\n",
      "   |   |   |   +---GetPassWarning\n",
      "   |   |   |   +---FormatterWarning\n",
      "   |   |   |   +---_WouldIgnoreField\n",
      "   |   |   |   +---_ExperimentalProjectMetadata\n",
      "   |   |   |   +---_InvalidFile\n",
      "   |   |   +---DeprecationWarning\n",
      "   |   |   |   +---ProvisionalWarning\n",
      "   |   |   +---PendingDeprecationWarning\n",
      "   |   |   +---SyntaxWarning\n",
      "   |   |   +---RuntimeWarning\n",
      "   |   |   |   +---ProactorSelectorThreadWarning\n",
      "   |   |   |   +---UnknownTimezoneWarning\n",
      "   |   |   |   +---PEP440Warning\n",
      "   |   |   +---FutureWarning\n",
      "   |   |   |   +---ProvisionalCompleterWarning\n",
      "   |   |   +---ImportWarning\n",
      "   |   |   +---UnicodeWarning\n",
      "   |   |   +---BytesWarning\n",
      "   |   |   +---ResourceWarning\n",
      "   |   |   +---DeprecatedTzFormatWarning\n",
      "   |   |   +---SetuptoolsDeprecationWarning\n",
      "   |   |   |   +---DistDeprecationWarning\n",
      "   |   |   +---PkgResourcesDeprecationWarning\n",
      "   |   +---Error\n",
      "   |   +---_OptionError\n",
      "   |   +---_Error\n",
      "   |   +---error\n",
      "   |   +---Verbose\n",
      "   |   +---SubprocessError\n",
      "   |   |   +---CalledProcessError\n",
      "   |   |   +---TimeoutExpired\n",
      "   |   +---TokenError\n",
      "   |   +---StopTokenizing\n",
      "   |   +---EndOfBlock\n",
      "   |   +---TraitError\n",
      "   |   +---Error\n",
      "   |   +---Error\n",
      "   |   |   +---CancelledError\n",
      "   |   |   +---TimeoutError\n",
      "   |   |   +---InvalidStateError\n",
      "   |   +---_GiveupOnSendfile\n",
      "   |   +---error\n",
      "   |   +---Incomplete\n",
      "   |   +---TimeoutError\n",
      "   |   +---InvalidStateError\n",
      "   |   +---LimitOverrunError\n",
      "   |   +---QueueEmpty\n",
      "   |   +---QueueFull\n",
      "   |   +---error\n",
      "   |   +---LZMAError\n",
      "   |   +---RegistryError\n",
      "   |   +---_GiveupOnFastCopy\n",
      "   |   +---Empty\n",
      "   |   +---Full\n",
      "   |   +---ZMQBaseError\n",
      "   |   |   +---ZMQError\n",
      "   |   |   |   +---ContextTerminated\n",
      "   |   |   |   +---Again\n",
      "   |   |   |   +---InterruptedSystemCall\n",
      "   |   |   +---ZMQBindError\n",
      "   |   |   +---NotDone\n",
      "   |   +---PickleError\n",
      "   |   |   +---PicklingError\n",
      "   |   |   +---UnpicklingError\n",
      "   |   +---_Stop\n",
      "   |   +---ArgumentError\n",
      "   |   +---ArgumentTypeError\n",
      "   |   +---ConfigError\n",
      "   |   |   +---ConfigLoaderError\n",
      "   |   |   |   +---ArgumentError\n",
      "   |   |   +---ConfigFileNotFound\n",
      "   |   +---ConfigurableError\n",
      "   |   |   +---MultipleInstanceError\n",
      "   |   +---ApplicationError\n",
      "   |   +---TimeoutError\n",
      "   |   +---COMError\n",
      "   |   +---ArgumentError\n",
      "   |   +---ReturnValueIgnoredError\n",
      "   |   +---KeyReuseError\n",
      "   |   +---UnknownKeyError\n",
      "   |   +---LeakedCallbackError\n",
      "   |   +---BadYieldError\n",
      "   |   +---ReturnValueIgnoredError\n",
      "   |   +---Return\n",
      "   |   +---InvalidPortNumber\n",
      "   |   +---NoIPAddresses\n",
      "   |   +---BadZipFile\n",
      "   |   +---LargeZipFile\n",
      "   |   +---Error\n",
      "   |   |   +---NoSectionError\n",
      "   |   |   +---DuplicateSectionError\n",
      "   |   |   +---DuplicateOptionError\n",
      "   |   |   +---NoOptionError\n",
      "   |   |   +---InterpolationError\n",
      "   |   |   |   +---InterpolationMissingOptionError\n",
      "   |   |   |   +---InterpolationSyntaxError\n",
      "   |   |   |   +---InterpolationDepthError\n",
      "   |   |   +---ParsingError\n",
      "   |   |   |   +---MissingSectionHeaderError\n",
      "   |   +---BadEntryPoint\n",
      "   |   +---NoSuchEntryPoint\n",
      "   |   +---DuplicateKernelError\n",
      "   |   +---ErrorDuringImport\n",
      "   |   +---NotOneValueFound\n",
      "   |   +---CannotEval\n",
      "   |   +---OptionError\n",
      "   |   +---BdbQuit\n",
      "   |   +---Restart\n",
      "   |   +---FindCmdError\n",
      "   |   +---HomeDirError\n",
      "   |   +---ProfileDirError\n",
      "   |   +---IPythonCoreError\n",
      "   |   |   +---TryNext\n",
      "   |   |   +---UsageError\n",
      "   |   |   +---StdinNotImplementedError\n",
      "   |   +---InputRejected\n",
      "   |   +---GetoptError\n",
      "   |   +---ErrorToken\n",
      "   |   +---PrefilterError\n",
      "   |   +---AliasError\n",
      "   |   |   +---InvalidAliasError\n",
      "   |   +---Error\n",
      "   |   |   +---InterfaceError\n",
      "   |   |   +---DatabaseError\n",
      "   |   |   |   +---InternalError\n",
      "   |   |   |   +---OperationalError\n",
      "   |   |   |   +---ProgrammingError\n",
      "   |   |   |   +---IntegrityError\n",
      "   |   |   |   +---DataError\n",
      "   |   |   |   +---NotSupportedError\n",
      "   |   +---Warning\n",
      "   |   +---SpaceInInput\n",
      "   |   +---DOMException\n",
      "   |   |   +---IndexSizeErr\n",
      "   |   |   +---DomstringSizeErr\n",
      "   |   |   +---HierarchyRequestErr\n",
      "   |   |   +---WrongDocumentErr\n",
      "   |   |   +---InvalidCharacterErr\n",
      "   |   |   +---NoDataAllowedErr\n",
      "   |   |   +---NoModificationAllowedErr\n",
      "   |   |   +---NotFoundErr\n",
      "   |   |   +---NotSupportedErr\n",
      "   |   |   +---InuseAttributeErr\n",
      "   |   |   +---InvalidStateErr\n",
      "   |   |   +---SyntaxErr\n",
      "   |   |   +---InvalidModificationErr\n",
      "   |   |   +---NamespaceErr\n",
      "   |   |   +---InvalidAccessErr\n",
      "   |   |   +---ValidationErr\n",
      "   |   +---ValidationError\n",
      "   |   +---EditReadOnlyBuffer\n",
      "   |   +---_Retry\n",
      "   |   +---InvalidLayoutError\n",
      "   |   +---HeightIsUnknownError\n",
      "   |   +---ParserSyntaxError\n",
      "   |   +---InternalParseError\n",
      "   |   +---_PositionUpdatingFinished\n",
      "   |   +---SimpleGetItemNotFound\n",
      "   |   +---UncaughtAttributeError\n",
      "   |   +---HasNoContext\n",
      "   |   +---ParamIssue\n",
      "   |   +---_JediError\n",
      "   |   |   +---InternalError\n",
      "   |   |   +---WrongVersion\n",
      "   |   |   +---RefactoringError\n",
      "   |   +---OnErrorLeaf\n",
      "   |   +---InvalidPythonEnvironment\n",
      "   |   +---MessageError\n",
      "   |   |   +---MessageParseError\n",
      "   |   |   |   +---HeaderParseError\n",
      "   |   |   |   |   +---_InvalidEwError\n",
      "   |   |   |   +---BoundaryError\n",
      "   |   |   +---MultipartConversionError\n",
      "   |   |   +---CharsetError\n",
      "   |   +---Error\n",
      "   |   +---HTTPException\n",
      "   |   |   +---NotConnected\n",
      "   |   |   +---InvalidURL\n",
      "   |   |   +---UnknownProtocol\n",
      "   |   |   +---UnknownTransferEncoding\n",
      "   |   |   +---UnimplementedFileMode\n",
      "   |   |   +---IncompleteRead\n",
      "   |   |   +---ImproperConnectionState\n",
      "   |   |   |   +---CannotSendRequest\n",
      "   |   |   |   +---CannotSendHeader\n",
      "   |   |   |   +---ResponseNotReady\n",
      "   |   |   +---BadStatusLine\n",
      "   |   |   |   +---RemoteDisconnected\n",
      "   |   |   +---LineTooLong\n",
      "   |   +---InteractivelyDefined\n",
      "   |   +---KillEmbedded\n",
      "   |   +---QueueEmpty\n",
      "   |   +---QueueFull\n",
      "   |   +---DistutilsError\n",
      "   |   |   +---DistutilsModuleError\n",
      "   |   |   +---DistutilsClassError\n",
      "   |   |   +---DistutilsGetoptError\n",
      "   |   |   +---DistutilsArgError\n",
      "   |   |   +---DistutilsFileError\n",
      "   |   |   +---DistutilsOptionError\n",
      "   |   |   +---DistutilsSetupError\n",
      "   |   |   +---DistutilsPlatformError\n",
      "   |   |   +---DistutilsExecError\n",
      "   |   |   +---DistutilsInternalError\n",
      "   |   |   +---DistutilsTemplateError\n",
      "   |   |   +---DistutilsByteCompileError\n",
      "   |   |   +---RemovedCommandError\n",
      "   |   |   +---PackageDiscoveryError\n",
      "   |   +---CCompilerError\n",
      "   |   |   +---PreprocessError\n",
      "   |   |   +---CompileError\n",
      "   |   |   +---LibError\n",
      "   |   |   +---LinkError\n",
      "   |   |   +---UnknownFileError\n",
      "   |   +---ExpatError\n",
      "   |   +---error\n",
      "   |   +---com_error\n",
      "   |   +---internal_error\n",
      "   |   +---ParseBaseException\n",
      "   |   |   +---ParseException\n",
      "   |   |   +---ParseFatalException\n",
      "   |   |   |   +---ParseSyntaxException\n",
      "   |   +---RecursiveGrammarException\n",
      "   |   +---ResolutionError\n",
      "   |   |   +---VersionConflict\n",
      "   |   |   |   +---ContextualVersionConflict\n",
      "   |   |   +---DistributionNotFound\n",
      "   |   |   +---UnknownExtra\n",
      "   |   +---ParseBaseException\n",
      "   |   |   +---ParseException\n",
      "   |   |   +---ParseFatalException\n",
      "   |   |   |   +---ParseSyntaxException\n",
      "   |   +---RecursiveGrammarException\n",
      "   |   +---Error\n",
      "   |   +---Unresolved\n",
      "   |   +---SkipTest\n",
      "   |   +---_ShouldStop\n",
      "   |   +---_UnexpectedSuccess\n",
      "   |   +---Error\n",
      "   |   |   +---ProtocolError\n",
      "   |   |   +---ResponseError\n",
      "   |   |   +---Fault\n",
      "   |   +---UnableToResolveVariableException\n",
      "   |   +---InvalidTypeInArgsException\n",
      "   +---GeneratorExit\n",
      "   +---SystemExit\n",
      "   +---KeyboardInterrupt\n",
      "   +---CancelledError\n",
      "   +---AbortThread\n",
      "   +---AbortThread\n",
      "   +---DebuggerInitializationError\n"
     ]
    }
   ],
   "source": [
    "def print_exception_tree(thisclass, nest = 0):\n",
    "    if nest > 1:\n",
    "        print(\"   |\" * (nest - 1), end=\"\")\n",
    "    if nest > 0:\n",
    "        print(\"   +---\", end=\"\")\n",
    "\n",
    "    print(thisclass.__name__)\n",
    "\n",
    "    for subclass in thisclass.__subclasses__():\n",
    "        print_exception_tree(subclass, nest + 1)\n",
    "\n",
    "\n",
    "print_exception_tree(BaseException)"
   ]
  },
  {
   "cell_type": "code",
   "execution_count": 4,
   "id": "ae33242a-a99b-4be4-8195-a92f74a1f5b0",
   "metadata": {},
   "outputs": [
    {
     "data": {
      "text/plain": [
       "[0, 0, 0, 0, 2, 0, 0]"
      ]
     },
     "execution_count": 4,
     "metadata": {},
     "output_type": "execute_result"
    }
   ],
   "source": [
    "x = [0,0,0,0,0,0]\n",
    "x.insert(4, 2)\n",
    "x"
   ]
  },
  {
   "cell_type": "code",
   "execution_count": 8,
   "id": "3d6db693-e073-46af-96e5-28d6107d1ddd",
   "metadata": {},
   "outputs": [
    {
     "name": "stdout",
     "output_type": "stream",
     "text": [
      "go\n"
     ]
    }
   ],
   "source": [
    "class Timer():\n",
    "    def __str__(self):\n",
    "        return 'go'\n",
    "    pass\n",
    "\n",
    "x = Timer()\n",
    "print(x)"
   ]
  },
  {
   "cell_type": "code",
   "execution_count": 13,
   "id": "f70d41bb-324b-45b2-a96d-166a9305cc96",
   "metadata": {},
   "outputs": [
    {
     "name": "stdout",
     "output_type": "stream",
     "text": [
      "True\n",
      "False\n",
      "False\n",
      "True\n"
     ]
    }
   ],
   "source": [
    "print(isinstance(2, int))\n",
    "print(isinstance(2.5, int))\n",
    "print(isinstance(2, float))\n",
    "print(isinstance(2.5, float))"
   ]
  },
  {
   "cell_type": "code",
   "execution_count": 2,
   "id": "e7d84118-fac4-4c7b-bee5-cbccde532088",
   "metadata": {},
   "outputs": [
    {
     "name": "stdin",
     "output_type": "stream",
     "text": [
      " hi\n"
     ]
    },
    {
     "data": {
      "text/plain": [
       "'hi'"
      ]
     },
     "execution_count": 2,
     "metadata": {},
     "output_type": "execute_result"
    }
   ],
   "source": [
    "input()"
   ]
  },
  {
   "cell_type": "code",
   "execution_count": 3,
   "id": "ac7b1869-6983-4afb-bb26-244fa49d0b0a",
   "metadata": {},
   "outputs": [
    {
     "name": "stdin",
     "output_type": "stream",
     "text": [
      " hi\n"
     ]
    },
    {
     "name": "stdout",
     "output_type": "stream",
     "text": [
      "hi\n"
     ]
    }
   ],
   "source": [
    "x = input()\n",
    "print(x)"
   ]
  },
  {
   "cell_type": "code",
   "execution_count": 5,
   "id": "eb67a2d1-2213-4378-9fd8-1f0d093c2bae",
   "metadata": {},
   "outputs": [
    {
     "name": "stdin",
     "output_type": "stream",
     "text": [
      "Enter a number:  10\n"
     ]
    },
    {
     "name": "stdout",
     "output_type": "stream",
     "text": [
      "10 to the power of 2 is 100.0\n"
     ]
    }
   ],
   "source": [
    "anything = input(\"Enter a number: \")\n",
    "something = int(anything) ** 2.0\n",
    "print(anything, \"to the power of 2 is\", something)"
   ]
  },
  {
   "cell_type": "code",
   "execution_count": 8,
   "id": "06fc1e4f-5e81-45fe-a757-24aa42d96816",
   "metadata": {},
   "outputs": [
    {
     "name": "stdin",
     "output_type": "stream",
     "text": [
      "Tell me anything: poop\n"
     ]
    },
    {
     "name": "stdout",
     "output_type": "stream",
     "text": [
      "Hmm poop really?\n"
     ]
    }
   ],
   "source": [
    "x = input(\"Tell me anything:\")\n",
    "print(\"Hmm\", x, 'really?')"
   ]
  },
  {
   "cell_type": "code",
   "execution_count": 9,
   "id": "5df66282-bdfc-4ebd-89e0-39d18e192500",
   "metadata": {},
   "outputs": [
    {
     "data": {
      "text/plain": [
       "'6666666666'"
      ]
     },
     "execution_count": 9,
     "metadata": {},
     "output_type": "execute_result"
    }
   ],
   "source": [
    "\"6\"*10"
   ]
  },
  {
   "cell_type": "code",
   "execution_count": 10,
   "id": "e1d2178f-bdbb-49fc-86b8-dc16bf1f95cf",
   "metadata": {},
   "outputs": [
    {
     "data": {
      "text/plain": [
       "['6', '6', '6', '6', '6', '6', '6', '6', '6', '6']"
      ]
     },
     "execution_count": 10,
     "metadata": {},
     "output_type": "execute_result"
    }
   ],
   "source": [
    "['6']*10"
   ]
  },
  {
   "cell_type": "code",
   "execution_count": 14,
   "id": "aea91620-985b-47da-bf50-8ef5cc29fd52",
   "metadata": {},
   "outputs": [
    {
     "name": "stdout",
     "output_type": "stream",
     "text": [
      "\n",
      "    +================================+\n",
      "    | Welcome to my game, muggle!    |\n",
      "    | Enter an integer number        |\n",
      "    | and guess what number I've     |\n",
      "    | picked for you.                |\n",
      "    | So, what is the secret number? |\n",
      "    +================================+\n",
      "    \n"
     ]
    },
    {
     "name": "stdin",
     "output_type": "stream",
     "text": [
      " 6\n"
     ]
    },
    {
     "name": "stdout",
     "output_type": "stream",
     "text": [
      "Ha ha! You're stuck in my loop!\n"
     ]
    },
    {
     "name": "stdin",
     "output_type": "stream",
     "text": [
      " 7\n"
     ]
    },
    {
     "name": "stdout",
     "output_type": "stream",
     "text": [
      "Ha ha! You're stuck in my loop!\n"
     ]
    },
    {
     "name": "stdin",
     "output_type": "stream",
     "text": [
      " 777\n"
     ]
    },
    {
     "name": "stdout",
     "output_type": "stream",
     "text": [
      "Well done, muggle! You are free now.\n"
     ]
    }
   ],
   "source": [
    "secret_number = 777\n",
    "not_guessed = True\n",
    "\n",
    "print(\n",
    "    \"\"\"\n",
    "    +================================+\n",
    "    | Welcome to my game, muggle!    |\n",
    "    | Enter an integer number        |\n",
    "    | and guess what number I've     |\n",
    "    | picked for you.                |\n",
    "    | So, what is the secret number? |\n",
    "    +================================+\n",
    "    \"\"\")\n",
    "\n",
    "while not_guessed:\n",
    "    guess = input()\n",
    "    if int(guess) != secret_number:\n",
    "        print(\"Ha ha! You're stuck in my loop!\")\n",
    "    else:\n",
    "        print(\"Well done, muggle! You are free now.\")\n",
    "        not_guessed = False\n",
    "        "
   ]
  },
  {
   "cell_type": "code",
   "execution_count": null,
   "id": "58b2d216-0a8d-4e0f-9ded-c6d6ce2d3d44",
   "metadata": {},
   "outputs": [],
   "source": []
  }
 ],
 "metadata": {
  "kernelspec": {
   "display_name": "Python 3 (ipykernel)",
   "language": "python",
   "name": "python3"
  },
  "language_info": {
   "codemirror_mode": {
    "name": "ipython",
    "version": 3
   },
   "file_extension": ".py",
   "mimetype": "text/x-python",
   "name": "python",
   "nbconvert_exporter": "python",
   "pygments_lexer": "ipython3",
   "version": "3.8.13"
  }
 },
 "nbformat": 4,
 "nbformat_minor": 5
}
