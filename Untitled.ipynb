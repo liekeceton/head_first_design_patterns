{
 "cells": [
  {
   "cell_type": "code",
   "execution_count": 1,
   "id": "d9015fe7-309f-4823-9e95-b7690e975116",
   "metadata": {},
   "outputs": [],
   "source": [
    "#PCEPP1 preparation"
   ]
  },
  {
   "cell_type": "code",
   "execution_count": 2,
   "id": "e7d84118-fac4-4c7b-bee5-cbccde532088",
   "metadata": {},
   "outputs": [
    {
     "name": "stdin",
     "output_type": "stream",
     "text": [
      " hi\n"
     ]
    },
    {
     "data": {
      "text/plain": [
       "'hi'"
      ]
     },
     "execution_count": 2,
     "metadata": {},
     "output_type": "execute_result"
    }
   ],
   "source": [
    "input()"
   ]
  },
  {
   "cell_type": "code",
   "execution_count": 3,
   "id": "ac7b1869-6983-4afb-bb26-244fa49d0b0a",
   "metadata": {},
   "outputs": [
    {
     "name": "stdin",
     "output_type": "stream",
     "text": [
      " hi\n"
     ]
    },
    {
     "name": "stdout",
     "output_type": "stream",
     "text": [
      "hi\n"
     ]
    }
   ],
   "source": [
    "x = input()\n",
    "print(x)"
   ]
  },
  {
   "cell_type": "code",
   "execution_count": 5,
   "id": "eb67a2d1-2213-4378-9fd8-1f0d093c2bae",
   "metadata": {},
   "outputs": [
    {
     "name": "stdin",
     "output_type": "stream",
     "text": [
      "Enter a number:  10\n"
     ]
    },
    {
     "name": "stdout",
     "output_type": "stream",
     "text": [
      "10 to the power of 2 is 100.0\n"
     ]
    }
   ],
   "source": [
    "anything = input(\"Enter a number: \")\n",
    "something = int(anything) ** 2.0\n",
    "print(anything, \"to the power of 2 is\", something)"
   ]
  },
  {
   "cell_type": "code",
   "execution_count": 8,
   "id": "06fc1e4f-5e81-45fe-a757-24aa42d96816",
   "metadata": {},
   "outputs": [
    {
     "name": "stdin",
     "output_type": "stream",
     "text": [
      "Tell me anything: poop\n"
     ]
    },
    {
     "name": "stdout",
     "output_type": "stream",
     "text": [
      "Hmm poop really?\n"
     ]
    }
   ],
   "source": [
    "x = input(\"Tell me anything:\")\n",
    "print(\"Hmm\", x, 'really?')"
   ]
  },
  {
   "cell_type": "code",
   "execution_count": 9,
   "id": "5df66282-bdfc-4ebd-89e0-39d18e192500",
   "metadata": {},
   "outputs": [
    {
     "data": {
      "text/plain": [
       "'6666666666'"
      ]
     },
     "execution_count": 9,
     "metadata": {},
     "output_type": "execute_result"
    }
   ],
   "source": [
    "\"6\"*10"
   ]
  },
  {
   "cell_type": "code",
   "execution_count": 10,
   "id": "e1d2178f-bdbb-49fc-86b8-dc16bf1f95cf",
   "metadata": {},
   "outputs": [
    {
     "data": {
      "text/plain": [
       "['6', '6', '6', '6', '6', '6', '6', '6', '6', '6']"
      ]
     },
     "execution_count": 10,
     "metadata": {},
     "output_type": "execute_result"
    }
   ],
   "source": [
    "['6']*10"
   ]
  },
  {
   "cell_type": "code",
   "execution_count": 14,
   "id": "aea91620-985b-47da-bf50-8ef5cc29fd52",
   "metadata": {},
   "outputs": [
    {
     "name": "stdout",
     "output_type": "stream",
     "text": [
      "\n",
      "    +================================+\n",
      "    | Welcome to my game, muggle!    |\n",
      "    | Enter an integer number        |\n",
      "    | and guess what number I've     |\n",
      "    | picked for you.                |\n",
      "    | So, what is the secret number? |\n",
      "    +================================+\n",
      "    \n"
     ]
    },
    {
     "name": "stdin",
     "output_type": "stream",
     "text": [
      " 6\n"
     ]
    },
    {
     "name": "stdout",
     "output_type": "stream",
     "text": [
      "Ha ha! You're stuck in my loop!\n"
     ]
    },
    {
     "name": "stdin",
     "output_type": "stream",
     "text": [
      " 7\n"
     ]
    },
    {
     "name": "stdout",
     "output_type": "stream",
     "text": [
      "Ha ha! You're stuck in my loop!\n"
     ]
    },
    {
     "name": "stdin",
     "output_type": "stream",
     "text": [
      " 777\n"
     ]
    },
    {
     "name": "stdout",
     "output_type": "stream",
     "text": [
      "Well done, muggle! You are free now.\n"
     ]
    }
   ],
   "source": [
    "secret_number = 777\n",
    "not_guessed = True\n",
    "\n",
    "print(\n",
    "    \"\"\"\n",
    "    +================================+\n",
    "    | Welcome to my game, muggle!    |\n",
    "    | Enter an integer number        |\n",
    "    | and guess what number I've     |\n",
    "    | picked for you.                |\n",
    "    | So, what is the secret number? |\n",
    "    +================================+\n",
    "    \"\"\")\n",
    "\n",
    "while not_guessed:\n",
    "    guess = input()\n",
    "    if int(guess) != secret_number:\n",
    "        print(\"Ha ha! You're stuck in my loop!\")\n",
    "    else:\n",
    "        print(\"Well done, muggle! You are free now.\")\n",
    "        not_guessed = False\n",
    "        "
   ]
  },
  {
   "cell_type": "code",
   "execution_count": null,
   "id": "58b2d216-0a8d-4e0f-9ded-c6d6ce2d3d44",
   "metadata": {},
   "outputs": [],
   "source": []
  }
 ],
 "metadata": {
  "kernelspec": {
   "display_name": "Python 3 (ipykernel)",
   "language": "python",
   "name": "python3"
  },
  "language_info": {
   "codemirror_mode": {
    "name": "ipython",
    "version": 3
   },
   "file_extension": ".py",
   "mimetype": "text/x-python",
   "name": "python",
   "nbconvert_exporter": "python",
   "pygments_lexer": "ipython3",
   "version": "3.8.13"
  }
 },
 "nbformat": 4,
 "nbformat_minor": 5
}
