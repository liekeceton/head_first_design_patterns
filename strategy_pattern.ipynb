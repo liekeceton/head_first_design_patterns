{
 "cells": [
  {
   "cell_type": "code",
   "execution_count": 7,
   "id": "77f66602-c620-4b80-9623-55fd494468cd",
   "metadata": {},
   "outputs": [],
   "source": [
    "from abc import ABC, abstractmethod"
   ]
  },
  {
   "cell_type": "markdown",
   "id": "1fddf3bd-fa3c-40d2-be26-4a6d8716c560",
   "metadata": {},
   "source": [
    "Encapsulate different parts of a system into families of algorithms\n",
    "\n",
    "It allows from all-versus-all interactions and it very flexible when building modular processes"
   ]
  },
  {
   "cell_type": "code",
   "execution_count": 2,
   "id": "f6e36bf0-26d7-4675-8cae-e60102e114a6",
   "metadata": {},
   "outputs": [],
   "source": [
    "class FlyBehaviour(ABC):\n",
    "    @abstractmethod\n",
    "    def fly(self) -> str:\n",
    "        \"\"\"Performs flying\"\"\"\n",
    "        \n",
    "class NoFly(FlyBehaviour):\n",
    "    def fly(self) -> str:\n",
    "        return \"I do not fly\"\n",
    "\n",
    "class FlyWithWings(FlyBehaviour):\n",
    "    def fly(self) -> str:\n",
    "        return \"I fly!\" \n",
    "    \n",
    "class ErrorFly(FlyBehaviour):\n",
    "    pass"
   ]
  },
  {
   "cell_type": "code",
   "execution_count": 3,
   "id": "72ac85f7-a7dc-4d9d-870b-6fdd842b1a40",
   "metadata": {},
   "outputs": [],
   "source": [
    "class QuackBehaviour(ABC):\n",
    "    #Indicate that a method is required when using quack behaviour\n",
    "    @abstractmethod \n",
    "    def quack(self) -> str:\n",
    "        \"\"\"Performs quacking\"\"\"\n",
    "        \n",
    "class MuteQuack(QuackBehaviour):\n",
    "    def quack(self) -> str:\n",
    "        return \"I do not quack\"\n",
    "\n",
    "class Growl(QuackBehaviour):\n",
    "    def quack(self) -> str:\n",
    "        return \"WRAAAAAAAHH\" \n",
    "    \n",
    "class Quack(QuackBehaviour):\n",
    "    def quack(self) -> str:\n",
    "        return \"I quack!\""
   ]
  },
  {
   "cell_type": "code",
   "execution_count": 4,
   "id": "21408a4d-f64d-4449-9eb3-8641c1c0d04f",
   "metadata": {},
   "outputs": [],
   "source": [
    "class Duck():\n",
    "    def __init__(self, name):\n",
    "        self.name = name\n",
    "        self.species = 'duck'\n",
    "        self.fly_behaviour = None\n",
    "        self.quack_behaviour = Quack()\n",
    "        \n",
    "    def perform_fly(self):\n",
    "        return self.fly_behaviour.fly()\n",
    "    \n",
    "    def perform_quack(self):\n",
    "        return self.quack_behaviour.quack()\n",
    "\n",
    "class Penguin():\n",
    "    def __init__(self, name):\n",
    "        self.name = name\n",
    "        self.species = 'penguin'\n",
    "        self.fly_behaviour = NoFly()\n",
    "        \n",
    "    def perform_fly(self):\n",
    "        return self.fly_behaviour.fly()\n",
    "    \n",
    "class BrownDuck(Duck):\n",
    "    def __init__(self, name):\n",
    "        super().__init__(name)\n",
    "        self.fly_behaviour = FlyWithWings()\n",
    "        #self.quack_behaviour = Quack() #Default quack behaviour\n",
    "        \n",
    "class WeirdDuck(Duck):\n",
    "    def __init__(self, name):\n",
    "        super().__init__(name)\n",
    "        self.fly_behaviour = NoFly()\n",
    "        self.quack_behaviour = Growl()\n",
    "        \n",
    "class BabyPenguin(Penguin):\n",
    "    def __init__(self, name):\n",
    "        super().__init__(name)"
   ]
  },
  {
   "cell_type": "code",
   "execution_count": 8,
   "id": "1ba8271a-dc2a-4370-ab8f-56108d19852c",
   "metadata": {},
   "outputs": [],
   "source": [
    "my_baby_penguin = BabyPenguin('Joline')"
   ]
  },
  {
   "cell_type": "code",
   "execution_count": 9,
   "id": "0156362e-a722-4a7f-a2ef-19b7af91e634",
   "metadata": {},
   "outputs": [
    {
     "data": {
      "text/plain": [
       "'I do not fly'"
      ]
     },
     "execution_count": 9,
     "metadata": {},
     "output_type": "execute_result"
    }
   ],
   "source": [
    "my_baby_penguin.perform_fly()"
   ]
  },
  {
   "cell_type": "code",
   "execution_count": 10,
   "id": "fe7aab92-533c-4ac2-bb38-048d51481621",
   "metadata": {},
   "outputs": [],
   "source": [
    "my_weird_duck = WeirdDuck('Gerard')"
   ]
  },
  {
   "cell_type": "code",
   "execution_count": 12,
   "id": "83527608-dcbe-4e5e-b5a6-2da7f7a00752",
   "metadata": {},
   "outputs": [
    {
     "data": {
      "text/plain": [
       "'WRAAAAAAAHH'"
      ]
     },
     "execution_count": 12,
     "metadata": {},
     "output_type": "execute_result"
    }
   ],
   "source": [
    "my_weird_duck.perform_quack()"
   ]
  },
  {
   "cell_type": "code",
   "execution_count": 130,
   "id": "c23f6c72-339c-4d77-a82f-a4df27b234ab",
   "metadata": {},
   "outputs": [],
   "source": [
    "my_brown_duck = BrownDuck('Alan')"
   ]
  },
  {
   "cell_type": "code",
   "execution_count": 131,
   "id": "2bb4d729-9bdb-4c5c-9a6a-1bdfae610683",
   "metadata": {},
   "outputs": [
    {
     "data": {
      "text/plain": [
       "'I quack!'"
      ]
     },
     "execution_count": 131,
     "metadata": {},
     "output_type": "execute_result"
    }
   ],
   "source": [
    "my_brown_duck.perform_quack()"
   ]
  },
  {
   "cell_type": "code",
   "execution_count": null,
   "id": "513f8c12-761e-4ffe-a5a1-058e01ccfb34",
   "metadata": {},
   "outputs": [],
   "source": []
  }
 ],
 "metadata": {
  "kernelspec": {
   "display_name": "Python 3 (ipykernel)",
   "language": "python",
   "name": "python3"
  },
  "language_info": {
   "codemirror_mode": {
    "name": "ipython",
    "version": 3
   },
   "file_extension": ".py",
   "mimetype": "text/x-python",
   "name": "python",
   "nbconvert_exporter": "python",
   "pygments_lexer": "ipython3",
   "version": "3.8.13"
  }
 },
 "nbformat": 4,
 "nbformat_minor": 5
}
