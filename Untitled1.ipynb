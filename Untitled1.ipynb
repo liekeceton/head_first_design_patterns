{
 "cells": [
  {
   "cell_type": "code",
   "execution_count": 12,
   "id": "84bb3492-c13a-4b59-8c00-f341b7422294",
   "metadata": {},
   "outputs": [
    {
     "name": "stdout",
     "output_type": "stream",
     "text": [
      "Windows-10-10.0.22000-SP0\n",
      "AMD64\n",
      "Intel64 Family 6 Model 141 Stepping 1, GenuineIntel\n",
      "Windows\n",
      "10.0.22000\n"
     ]
    }
   ],
   "source": [
    "#The platform module lets you access the underlying platform's data, \n",
    "#i.e., hardware, operating system, and interpreter version information.\n",
    "from platform import platform, machine, processor, system, version\n",
    "print(platform(aliased = False, terse = False))\n",
    "print(machine())\n",
    "print(processor())\n",
    "print(system())\n",
    "print(version())"
   ]
  },
  {
   "cell_type": "code",
   "execution_count": 14,
   "id": "8e8513e7-3735-4c7a-8b36-3089992cb89d",
   "metadata": {},
   "outputs": [
    {
     "name": "stdout",
     "output_type": "stream",
     "text": [
      "CPython\n",
      "('3', '8', '13')\n"
     ]
    }
   ],
   "source": [
    "#Details of your Python implementation\n",
    "from platform import python_implementation, python_version_tuple\n",
    "print(python_implementation())\n",
    "print(python_version_tuple())"
   ]
  },
  {
   "cell_type": "code",
   "execution_count": 15,
   "id": "7c16e71e-7556-4f2e-ab29-d11259ad02ac",
   "metadata": {},
   "outputs": [],
   "source": [
    "#Python Module Indexer\n",
    "#https://docs.python.org/3/py-modindex.html"
   ]
  },
  {
   "cell_type": "code",
   "execution_count": 5,
   "id": "f6883661-8ad2-4cc8-829f-cfe5277900cf",
   "metadata": {},
   "outputs": [
    {
     "name": "stdin",
     "output_type": "stream",
     "text": [
      "Give me something: Get me out\n"
     ]
    }
   ],
   "source": [
    "a = True\n",
    "while a:\n",
    "    x = input('Give me something:')\n",
    "    if x == 'Get me out':\n",
    "        break\n",
    "    print(x)"
   ]
  },
  {
   "cell_type": "code",
   "execution_count": 4,
   "id": "e3669f8c-11d3-4996-8498-5e8a18313a6a",
   "metadata": {},
   "outputs": [
    {
     "data": {
      "text/plain": [
       "False"
      ]
     },
     "execution_count": 4,
     "metadata": {},
     "output_type": "execute_result"
    }
   ],
   "source": [
    "from sys import winver\n",
    "winver.isdigit()"
   ]
  },
  {
   "cell_type": "code",
   "execution_count": 25,
   "id": "0a988051-4bb4-4004-a909-1be2c2a64f9b",
   "metadata": {},
   "outputs": [
    {
     "data": {
      "text/plain": [
       "[]"
      ]
     },
     "execution_count": 25,
     "metadata": {},
     "output_type": "execute_result"
    }
   ],
   "source": [
    "[x for x in range(-1, -2)]"
   ]
  },
  {
   "cell_type": "code",
   "execution_count": 1,
   "id": "6dbd38ff-3028-4d4c-a539-a43a9fb6a3be",
   "metadata": {},
   "outputs": [
    {
     "ename": "ValueError",
     "evalue": "tuple.index(x): x not in tuple",
     "output_type": "error",
     "traceback": [
      "\u001b[1;31m---------------------------------------------------------------------------\u001b[0m",
      "\u001b[1;31mValueError\u001b[0m                                Traceback (most recent call last)",
      "Input \u001b[1;32mIn [1]\u001b[0m, in \u001b[0;36m<cell line: 2>\u001b[1;34m()\u001b[0m\n\u001b[0;32m      1\u001b[0m foo \u001b[38;5;241m=\u001b[39m (\u001b[38;5;241m1\u001b[39m,\u001b[38;5;241m2\u001b[39m,\u001b[38;5;241m3\u001b[39m)\n\u001b[1;32m----> 2\u001b[0m \u001b[43mfoo\u001b[49m\u001b[38;5;241;43m.\u001b[39;49m\u001b[43mindex\u001b[49m\u001b[43m(\u001b[49m\u001b[38;5;241;43m0\u001b[39;49m\u001b[43m)\u001b[49m\n",
      "\u001b[1;31mValueError\u001b[0m: tuple.index(x): x not in tuple"
     ]
    }
   ],
   "source": [
    "foo = (1,2,3)\n",
    "foo.index(0)"
   ]
  },
  {
   "cell_type": "code",
   "execution_count": 24,
   "id": "04e83e0b-0599-4d00-b400-043f3c0a2985",
   "metadata": {},
   "outputs": [
    {
     "data": {
      "text/plain": [
       "dict_values([(1, 2), (2, 1)])"
      ]
     },
     "execution_count": 24,
     "metadata": {},
     "output_type": "execute_result"
    }
   ],
   "source": [
    "d.values()"
   ]
  },
  {
   "cell_type": "code",
   "execution_count": 22,
   "id": "93afc07c-7c86-445f-8777-df29254b9ca3",
   "metadata": {},
   "outputs": [
    {
     "data": {
      "text/plain": [
       "4"
      ]
     },
     "execution_count": 22,
     "metadata": {},
     "output_type": "execute_result"
    }
   ],
   "source": [
    "4 % 20"
   ]
  },
  {
   "cell_type": "code",
   "execution_count": 15,
   "id": "c67df39a-929c-4d1b-9edd-31429b4bf4d1",
   "metadata": {},
   "outputs": [
    {
     "name": "stdout",
     "output_type": "stream",
     "text": [
      "[]\n"
     ]
    }
   ],
   "source": [
    "n = [1,2,3]\n",
    "v = n\n",
    "del v[:]\n",
    "print(n)"
   ]
  },
  {
   "cell_type": "code",
   "execution_count": 13,
   "id": "54f49413-ae86-47f3-9faa-afdc44cb730e",
   "metadata": {},
   "outputs": [
    {
     "name": "stdout",
     "output_type": "stream",
     "text": [
      "2\n",
      "1\n"
     ]
    }
   ],
   "source": [
    "d = {'1':(1,2), '2':(2,1)}\n",
    "\n",
    "for x in d.keys():\n",
    "    print(d[x][1])"
   ]
  },
  {
   "cell_type": "code",
   "execution_count": 16,
   "id": "fcb9df5d-9aea-4c8b-ba65-4fae2f69c252",
   "metadata": {},
   "outputs": [
    {
     "data": {
      "text/plain": [
       "(1, 2)"
      ]
     },
     "execution_count": 16,
     "metadata": {},
     "output_type": "execute_result"
    }
   ],
   "source": [
    "d['1']"
   ]
  },
  {
   "cell_type": "code",
   "execution_count": 9,
   "id": "f3a9f79b-6dd5-43a7-9a79-6197bdae7a9d",
   "metadata": {},
   "outputs": [
    {
     "ename": "SyntaxError",
     "evalue": "invalid syntax (1946235566.py, line 1)",
     "output_type": "error",
     "traceback": [
      "\u001b[1;36m  Input \u001b[1;32mIn [9]\u001b[1;36m\u001b[0m\n\u001b[1;33m    print(Hi, there!)\u001b[0m\n\u001b[1;37m                   ^\u001b[0m\n\u001b[1;31mSyntaxError\u001b[0m\u001b[1;31m:\u001b[0m invalid syntax\n"
     ]
    }
   ],
   "source": [
    "print(Hi, there!)"
   ]
  },
  {
   "cell_type": "code",
   "execution_count": 7,
   "id": "4e329ee9-f334-4ee2-955c-507e711ba2a8",
   "metadata": {},
   "outputs": [
    {
     "name": "stdout",
     "output_type": "stream",
     "text": [
      "(2,)\n"
     ]
    }
   ],
   "source": [
    "print(foo[-2:-1])"
   ]
  },
  {
   "cell_type": "code",
   "execution_count": 4,
   "id": "748c474c-1200-419a-975b-2dfb17983fc7",
   "metadata": {},
   "outputs": [
    {
     "ename": "SyntaxError",
     "evalue": "'break' outside loop (2811541743.py, line 3)",
     "output_type": "error",
     "traceback": [
      "\u001b[1;36m  Input \u001b[1;32mIn [4]\u001b[1;36m\u001b[0m\n\u001b[1;33m    break\u001b[0m\n\u001b[1;37m    ^\u001b[0m\n\u001b[1;31mSyntaxError\u001b[0m\u001b[1;31m:\u001b[0m 'break' outside loop\n"
     ]
    }
   ],
   "source": [
    "try:\n",
    "    print(5/0)\n",
    "    break\n",
    "except ZeroDivisionError:\n",
    "    print('a')"
   ]
  },
  {
   "cell_type": "code",
   "execution_count": 6,
   "id": "13b83aee-a8e2-476c-9704-b15a87ad7245",
   "metadata": {},
   "outputs": [
    {
     "name": "stdout",
     "output_type": "stream",
     "text": [
      "a\n"
     ]
    }
   ],
   "source": [
    "if ~False:\n",
    "    print('a')"
   ]
  },
  {
   "cell_type": "code",
   "execution_count": 8,
   "id": "213c529c-1f78-437c-a4fc-0f0f4b9ecfbf",
   "metadata": {},
   "outputs": [
    {
     "name": "stdout",
     "output_type": "stream",
     "text": [
      "[2, 4, 5]\n"
     ]
    }
   ],
   "source": [
    "l = [1, 2, 4, 5]\n",
    "del l[0]\n",
    "print(l)"
   ]
  },
  {
   "cell_type": "code",
   "execution_count": 9,
   "id": "df8fafe8-556e-4b0a-8ccc-57c501b26a62",
   "metadata": {},
   "outputs": [
    {
     "data": {
      "text/plain": [
       "[2, 4, 5, 5]"
      ]
     },
     "execution_count": 9,
     "metadata": {},
     "output_type": "execute_result"
    }
   ],
   "source": [
    "l.append(5)\n",
    "l"
   ]
  },
  {
   "cell_type": "code",
   "execution_count": 11,
   "id": "570b576c-6cc4-4d51-bf18-ad535c2b1337",
   "metadata": {},
   "outputs": [
    {
     "data": {
      "text/plain": [
       "[2, 100, 4, 5, 5, 1]"
      ]
     },
     "execution_count": 11,
     "metadata": {},
     "output_type": "execute_result"
    }
   ],
   "source": [
    "l.insert(1, 100)\n",
    "l"
   ]
  },
  {
   "cell_type": "code",
   "execution_count": 12,
   "id": "b294ef83-dde6-4fca-bff7-420c5827ec6f",
   "metadata": {},
   "outputs": [
    {
     "name": "stdout",
     "output_type": "stream",
     "text": [
      "[100, 100, 4, 5, 5, 1]\n"
     ]
    }
   ],
   "source": [
    "l2 = l\n",
    "l[0] = 100\n",
    "print(l2)"
   ]
  },
  {
   "cell_type": "code",
   "execution_count": 15,
   "id": "1f61197b-2e61-4a16-aedd-2cd9600ac9f2",
   "metadata": {},
   "outputs": [
    {
     "name": "stdout",
     "output_type": "stream",
     "text": [
      "[100, 100, 4, 5, 5, 1]\n",
      "[100, 100, 4, 5, 5, 1]\n"
     ]
    }
   ],
   "source": [
    "print(l[:])\n",
    "print(l.copy())"
   ]
  },
  {
   "cell_type": "code",
   "execution_count": 13,
   "id": "28888fd0-764b-4c5d-836f-7eeec554f4d0",
   "metadata": {},
   "outputs": [
    {
     "name": "stdout",
     "output_type": "stream",
     "text": [
      "1\n"
     ]
    }
   ],
   "source": [
    "a = 1\n",
    "b = 1\n",
    "a = b\n",
    "b = 2\n",
    "print(a)"
   ]
  },
  {
   "cell_type": "code",
   "execution_count": 20,
   "id": "04c97864-85a6-4d25-8df4-89f9b94fedce",
   "metadata": {},
   "outputs": [
    {
     "data": {
      "text/plain": [
       "[-1, 0]"
      ]
     },
     "execution_count": 20,
     "metadata": {},
     "output_type": "execute_result"
    }
   ],
   "source": [
    "[item for item in range(-1, 1)]"
   ]
  },
  {
   "cell_type": "code",
   "execution_count": 2,
   "id": "8a32137a-d259-4bd1-9580-6b9734be1c12",
   "metadata": {},
   "outputs": [
    {
     "data": {
      "text/plain": [
       "True"
      ]
     },
     "execution_count": 2,
     "metadata": {},
     "output_type": "execute_result"
    }
   ],
   "source": [
    "x = 1\n",
    "x = x==x\n",
    "x"
   ]
  },
  {
   "cell_type": "code",
   "execution_count": 16,
   "id": "843e698a-5c7b-42f0-b7d6-e98f79fd5744",
   "metadata": {},
   "outputs": [
    {
     "data": {
      "text/plain": [
       "[1, 2, 3]"
      ]
     },
     "execution_count": 16,
     "metadata": {},
     "output_type": "execute_result"
    }
   ],
   "source": [
    "x = [0, 1, 2, 3]\n",
    "x[-3:4]"
   ]
  },
  {
   "cell_type": "code",
   "execution_count": 17,
   "id": "7600dab1-dcaa-4a5d-ab97-bf5f01e8fed2",
   "metadata": {},
   "outputs": [
    {
     "name": "stdout",
     "output_type": "stream",
     "text": [
      "a\n",
      "a\n"
     ]
    }
   ],
   "source": [
    "for i in range(1):\n",
    "    print('a')\n",
    "else:\n",
    "    print('a')"
   ]
  },
  {
   "cell_type": "code",
   "execution_count": 18,
   "id": "331f163c-4e16-4743-b8bf-2380a8ecec5f",
   "metadata": {},
   "outputs": [
    {
     "data": {
      "text/plain": [
       "[2, 3, 4, 5, 6, 7, 8, 9, 10, 11, 12, 13, 14, 15, 16, 17, 18, 19]"
      ]
     },
     "execution_count": 18,
     "metadata": {},
     "output_type": "execute_result"
    }
   ],
   "source": [
    "[i for i in range(2, 20)]"
   ]
  },
  {
   "cell_type": "code",
   "execution_count": 19,
   "id": "54fcf57f-755e-4f8f-84ff-5f1990c53ee9",
   "metadata": {},
   "outputs": [],
   "source": [
    "x = 1"
   ]
  },
  {
   "cell_type": "code",
   "execution_count": 20,
   "id": "a224ee1e-caf6-4c64-92a3-0406751749d0",
   "metadata": {},
   "outputs": [
    {
     "data": {
      "text/plain": [
       "(1, 1, 1)"
      ]
     },
     "execution_count": 20,
     "metadata": {},
     "output_type": "execute_result"
    }
   ],
   "source": [
    "1, 1, 1"
   ]
  },
  {
   "cell_type": "code",
   "execution_count": 21,
   "id": "8af5f177-62e3-45ad-bf0a-2446810aca19",
   "metadata": {},
   "outputs": [
    {
     "data": {
      "text/plain": [
       "(1, 1, 1)"
      ]
     },
     "execution_count": 21,
     "metadata": {},
     "output_type": "execute_result"
    }
   ],
   "source": [
    "x, x, x"
   ]
  },
  {
   "cell_type": "code",
   "execution_count": 22,
   "id": "34f12642-e02d-4620-8677-38bf288874df",
   "metadata": {},
   "outputs": [
    {
     "data": {
      "text/plain": [
       "[1, 1, 1]"
      ]
     },
     "execution_count": 22,
     "metadata": {},
     "output_type": "execute_result"
    }
   ],
   "source": [
    "[x, x, x]"
   ]
  },
  {
   "cell_type": "code",
   "execution_count": 23,
   "id": "949f3ce3-79b2-4ef0-9101-6ea97fa9ee9a",
   "metadata": {},
   "outputs": [
    {
     "data": {
      "text/plain": [
       "(1,)"
      ]
     },
     "execution_count": 23,
     "metadata": {},
     "output_type": "execute_result"
    }
   ],
   "source": [
    "1, "
   ]
  },
  {
   "cell_type": "code",
   "execution_count": 24,
   "id": "3591d6ab-e53d-4bd9-9010-bce4b2031bd0",
   "metadata": {},
   "outputs": [
    {
     "data": {
      "text/plain": [
       "1"
      ]
     },
     "execution_count": 24,
     "metadata": {},
     "output_type": "execute_result"
    }
   ],
   "source": [
    "1"
   ]
  },
  {
   "cell_type": "code",
   "execution_count": 26,
   "id": "aa458abc-e5b8-4109-9cb8-5ace4e40ce69",
   "metadata": {},
   "outputs": [],
   "source": [
    "d = {\"cat\": \"chat\", \"dog\": \"chien\", \"horse\": \"cheval\"}"
   ]
  },
  {
   "cell_type": "code",
   "execution_count": 27,
   "id": "5f01ebec-6c08-4cc0-b528-4ce3134798f4",
   "metadata": {},
   "outputs": [
    {
     "data": {
      "text/plain": [
       "dict_items([('cat', 'chat'), ('dog', 'chien'), ('horse', 'cheval')])"
      ]
     },
     "execution_count": 27,
     "metadata": {},
     "output_type": "execute_result"
    }
   ],
   "source": [
    "d.items()"
   ]
  },
  {
   "cell_type": "code",
   "execution_count": 28,
   "id": "75e4c138-aa2b-40ba-b1df-7daab9ff4cbd",
   "metadata": {},
   "outputs": [
    {
     "data": {
      "text/plain": [
       "dict_keys(['cat', 'dog', 'horse'])"
      ]
     },
     "execution_count": 28,
     "metadata": {},
     "output_type": "execute_result"
    }
   ],
   "source": [
    "d.keys()"
   ]
  },
  {
   "cell_type": "code",
   "execution_count": 29,
   "id": "687d867c-c4cc-4994-bc41-4cc3c974648d",
   "metadata": {},
   "outputs": [
    {
     "data": {
      "text/plain": [
       "dict_values(['chat', 'chien', 'cheval'])"
      ]
     },
     "execution_count": 29,
     "metadata": {},
     "output_type": "execute_result"
    }
   ],
   "source": [
    "d.values()"
   ]
  },
  {
   "cell_type": "code",
   "execution_count": 30,
   "id": "ac18a6d9-dff9-4472-8b6c-763acac5aa16",
   "metadata": {},
   "outputs": [
    {
     "data": {
      "text/plain": [
       "8"
      ]
     },
     "execution_count": 30,
     "metadata": {},
     "output_type": "execute_result"
    }
   ],
   "source": [
    "len('kangaroo')"
   ]
  },
  {
   "cell_type": "code",
   "execution_count": 34,
   "id": "53d28078-84d5-40da-8ddb-5e902f04ad90",
   "metadata": {},
   "outputs": [
    {
     "data": {
      "text/plain": [
       "9"
      ]
     },
     "execution_count": 34,
     "metadata": {},
     "output_type": "execute_result"
    }
   ],
   "source": [
    "def fun(x=2, y=3):\n",
    "    return x*y\n",
    "    \n",
    "fun(3)"
   ]
  },
  {
   "cell_type": "code",
   "execution_count": 36,
   "id": "6f560d2d-8902-49d5-bbdc-ff3349e47596",
   "metadata": {},
   "outputs": [
    {
     "name": "stdout",
     "output_type": "stream",
     "text": [
      "(2, 4)\n",
      "2\n"
     ]
    }
   ],
   "source": [
    "tup = 1, 2, 4, 8\n",
    "tup = tup[1:-1]\n",
    "print(tup)\n",
    "tup = tup[0]\n",
    "print(tup)"
   ]
  },
  {
   "cell_type": "code",
   "execution_count": 38,
   "id": "ed126611-d69c-48eb-8784-f78d407b8c9c",
   "metadata": {},
   "outputs": [
    {
     "data": {
      "text/plain": [
       "('a', 'b')"
      ]
     },
     "execution_count": 38,
     "metadata": {},
     "output_type": "execute_result"
    }
   ],
   "source": [
    "('a',) + ('b',)"
   ]
  },
  {
   "cell_type": "code",
   "execution_count": null,
   "id": "fffe6a54-98aa-444a-83d0-c2de1a6aa7eb",
   "metadata": {},
   "outputs": [],
   "source": []
  }
 ],
 "metadata": {
  "kernelspec": {
   "display_name": "Python 3 (ipykernel)",
   "language": "python",
   "name": "python3"
  },
  "language_info": {
   "codemirror_mode": {
    "name": "ipython",
    "version": 3
   },
   "file_extension": ".py",
   "mimetype": "text/x-python",
   "name": "python",
   "nbconvert_exporter": "python",
   "pygments_lexer": "ipython3",
   "version": "3.8.13"
  }
 },
 "nbformat": 4,
 "nbformat_minor": 5
}
