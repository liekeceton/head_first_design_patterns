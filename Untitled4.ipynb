{
 "cells": [
  {
   "cell_type": "markdown",
   "id": "de32e9eb-1c22-4aed-b5f2-7946351a4e91",
   "metadata": {},
   "source": [
    "#### **Logging in Python**"
   ]
  },
  {
   "cell_type": "code",
   "execution_count": 7,
   "id": "6bafc638-4e29-49e1-9a39-b8315b43693e",
   "metadata": {},
   "outputs": [],
   "source": [
    "import logging\n",
    "import random\n",
    "\n",
    "MINUTES_TO_LOG = 60\n",
    "MIN_TEMP = 20\n",
    "MAX_TEMP = 40\n",
    "\n",
    "FORMAT = '%(name)s:%(levelname)s:%(asctime)s:%(message)s' #Set format\n",
    "    \n",
    "logger = logging.getLogger() #Initialise logger object\n",
    "\n",
    "#Create handler\n",
    "handler = logging.FileHandler('battery_temperature.log', mode='w')\n",
    "handler.setLevel(logging.DEBUG)\n",
    "\n",
    "#Add formatter to handler\n",
    "formatter = logging.Formatter(FORMAT)\n",
    "handler.setFormatter(formatter)\n",
    "\n",
    "#Add handler to logger\n",
    "logger.addHandler(handler)\n",
    "\n",
    "#Simulate an hour of logged battery temperatures\n",
    "for minute in range(MINUTES_TO_LOG):\n",
    "    battery_temp = random.randrange(MIN_TEMP, MAX_TEMP)\n",
    "    if battery_temp > 35:\n",
    "        logging.critical('CRITICAL message')\n",
    "    elif battery_temp < 20:\n",
    "        logging.debug('DEBUG message')\n",
    "    else:\n",
    "        logging.warning('WARNING message')"
   ]
  },
  {
   "cell_type": "code",
   "execution_count": 8,
   "id": "bd05fde9-d32f-4673-ab4a-2b959f039590",
   "metadata": {},
   "outputs": [
    {
     "data": {
      "text/plain": [
       "'root'"
      ]
     },
     "execution_count": 8,
     "metadata": {},
     "output_type": "execute_result"
    }
   ],
   "source": [
    "logger.name"
   ]
  },
  {
   "cell_type": "code",
   "execution_count": 15,
   "id": "209624d1-64eb-480c-b70b-3b34a6c90a32",
   "metadata": {},
   "outputs": [
    {
     "ename": "AttributeError",
     "evalue": "module 'sqlite3' has no attribute 'executeall'",
     "output_type": "error",
     "traceback": [
      "\u001b[1;31m---------------------------------------------------------------------------\u001b[0m",
      "\u001b[1;31mAttributeError\u001b[0m                            Traceback (most recent call last)",
      "Cell \u001b[1;32mIn[15], line 4\u001b[0m\n\u001b[0;32m      1\u001b[0m \u001b[38;5;28;01mimport\u001b[39;00m \u001b[38;5;21;01mxml\u001b[39;00m\n\u001b[0;32m      2\u001b[0m \u001b[38;5;28;01mimport\u001b[39;00m \u001b[38;5;21;01msqlite3\u001b[39;00m\n\u001b[1;32m----> 4\u001b[0m \u001b[43msqlite3\u001b[49m\u001b[38;5;241;43m.\u001b[39;49m\u001b[43mexecuteall\u001b[49m()\n\u001b[0;32m      6\u001b[0m help(sqlite3)\n\u001b[0;32m      7\u001b[0m \u001b[38;5;66;03m#help(xml)\u001b[39;00m\n",
      "File \u001b[1;32m~\\miniconda3\\envs\\vitroscan-analysis\\Lib\\sqlite3\\__init__.py:71\u001b[0m, in \u001b[0;36m__getattr__\u001b[1;34m(name)\u001b[0m\n\u001b[0;32m     69\u001b[0m     warnings\u001b[38;5;241m.\u001b[39mwarn(msg, \u001b[38;5;167;01mDeprecationWarning\u001b[39;00m, stacklevel\u001b[38;5;241m=\u001b[39m\u001b[38;5;241m2\u001b[39m)\n\u001b[0;32m     70\u001b[0m     \u001b[38;5;28;01mreturn\u001b[39;00m \u001b[38;5;28mstr\u001b[39m\n\u001b[1;32m---> 71\u001b[0m \u001b[38;5;28;01mraise\u001b[39;00m \u001b[38;5;167;01mAttributeError\u001b[39;00m(\u001b[38;5;124mf\u001b[39m\u001b[38;5;124m\"\u001b[39m\u001b[38;5;124mmodule \u001b[39m\u001b[38;5;124m'\u001b[39m\u001b[38;5;124msqlite3\u001b[39m\u001b[38;5;124m'\u001b[39m\u001b[38;5;124m has no attribute \u001b[39m\u001b[38;5;124m'\u001b[39m\u001b[38;5;132;01m{\u001b[39;00mname\u001b[38;5;132;01m}\u001b[39;00m\u001b[38;5;124m'\u001b[39m\u001b[38;5;124m\"\u001b[39m)\n",
      "\u001b[1;31mAttributeError\u001b[0m: module 'sqlite3' has no attribute 'executeall'"
     ]
    }
   ],
   "source": [
    "import xml\n",
    "import sqlite3\n",
    "\n",
    "sqlite3.executeall()\n",
    "\n",
    "help(sqlite3)\n",
    "#help(xml)"
   ]
  },
  {
   "cell_type": "code",
   "execution_count": 17,
   "id": "6944775d-07c6-4cd5-bd5e-032b51232c52",
   "metadata": {},
   "outputs": [
    {
     "ename": "AttributeError",
     "evalue": "module 'xml' has no attribute 'etree'",
     "output_type": "error",
     "traceback": [
      "\u001b[1;31m---------------------------------------------------------------------------\u001b[0m",
      "\u001b[1;31mAttributeError\u001b[0m                            Traceback (most recent call last)",
      "Cell \u001b[1;32mIn[17], line 1\u001b[0m\n\u001b[1;32m----> 1\u001b[0m \u001b[43mxml\u001b[49m\u001b[38;5;241;43m.\u001b[39;49m\u001b[43metree\u001b[49m\n",
      "\u001b[1;31mAttributeError\u001b[0m: module 'xml' has no attribute 'etree'"
     ]
    }
   ],
   "source": [
    "xml.etree"
   ]
  },
  {
   "cell_type": "code",
   "execution_count": null,
   "id": "e0b49d42-577a-4615-b4e3-5f0656b19daf",
   "metadata": {},
   "outputs": [],
   "source": []
  }
 ],
 "metadata": {
  "kernelspec": {
   "display_name": "Python 3 (ipykernel)",
   "language": "python",
   "name": "python3"
  },
  "language_info": {
   "codemirror_mode": {
    "name": "ipython",
    "version": 3
   },
   "file_extension": ".py",
   "mimetype": "text/x-python",
   "name": "python",
   "nbconvert_exporter": "python",
   "pygments_lexer": "ipython3",
   "version": "3.11.4"
  }
 },
 "nbformat": 4,
 "nbformat_minor": 5
}
