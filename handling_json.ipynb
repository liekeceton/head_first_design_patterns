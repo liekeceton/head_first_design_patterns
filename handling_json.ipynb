{
 "cells": [
  {
   "cell_type": "code",
   "execution_count": 1,
   "id": "1580dddc-bb31-4a73-8843-0b5a4183fbb0",
   "metadata": {},
   "outputs": [],
   "source": [
    "#Handling JSON files with Python\n",
    "import json"
   ]
  },
  {
   "cell_type": "code",
   "execution_count": 15,
   "id": "0f446e57-22e3-4ec7-b852-ea4904afb8b0",
   "metadata": {},
   "outputs": [
    {
     "name": "stdout",
     "output_type": "stream",
     "text": [
      "1.602176620898e-19\n"
     ]
    }
   ],
   "source": [
    "#dumps = dump Python data to a json string\n",
    "electron = 1.602176620898e-19\n",
    "print(json.dumps(electron))"
   ]
  },
  {
   "cell_type": "code",
   "execution_count": 16,
   "id": "85adf341-bcad-4d42-aa0c-51dfa4030dc2",
   "metadata": {},
   "outputs": [
    {
     "name": "stdout",
     "output_type": "stream",
     "text": [
      "\"\\\"The Meaning of Life\\\" by Monty Python's Flying Circus\"\n"
     ]
    }
   ],
   "source": [
    "comics = '\"The Meaning of Life\" by Monty Python\\'s Flying Circus'\n",
    "print(json.dumps(comics))"
   ]
  },
  {
   "cell_type": "code",
   "execution_count": 17,
   "id": "e5db6eac-b838-4b63-b1e7-cbe0fbff7d2c",
   "metadata": {},
   "outputs": [
    {
     "name": "stdout",
     "output_type": "stream",
     "text": [
      "[1, 2.34, true, \"False\", null, [\"a\", 0]]\n"
     ]
    }
   ],
   "source": [
    "my_list = [1, 2.34, True, \"False\", None, ['a', 0]]\n",
    "print(json.dumps(my_list))"
   ]
  },
  {
   "cell_type": "code",
   "execution_count": 18,
   "id": "737fc1ef-009b-4c9e-8b5a-5ba870ea05ac",
   "metadata": {},
   "outputs": [
    {
     "name": "stdout",
     "output_type": "stream",
     "text": [
      "{\"me\": \"Python\", \"pi\": 3.141592653589, \"data\": [1, 2, 4, 8], \"set\": null}\n"
     ]
    }
   ],
   "source": [
    "my_dict = {'me': \"Python\", 'pi': 3.141592653589, 'data': (1, 2, 4, 8), 'set': None}\n",
    "print(json.dumps(my_dict))"
   ]
  },
  {
   "cell_type": "code",
   "execution_count": 20,
   "id": "f99292e2-1cc7-418a-80ef-e9022864c6a8",
   "metadata": {},
   "outputs": [
    {
     "name": "stdout",
     "output_type": "stream",
     "text": [
      "<class '__main__.Who'>\n",
      "{'name': 'Jane Doe', 'age': 23}\n"
     ]
    }
   ],
   "source": [
    "#JSON can not be dumped a class object\n",
    "\n",
    "class Who:\n",
    "    def __init__(self, name, age):\n",
    "        self.name = name\n",
    "        self.age = age\n",
    "\n",
    "#Write a method that returns the dictionary of a class when dumped as a JSON file\n",
    "def encode_who(w):\n",
    "    if isinstance(w, Who):\n",
    "        #Return the dictionary of this class instantiation!\n",
    "        return w.__dict__\n",
    "    else:\n",
    "        raise TypeError(w.__class__.__name__ + ' is not JSON serializable')\n",
    "\n",
    "def decode_who(w):\n",
    "    return Who(w['name'], w['age'])\n",
    "\n",
    "old_man = Who(\"Jane Doe\", 23)\n",
    "json_str = json.dumps(old_man, default=encode_who)\n",
    "new_man = json.loads(json_str, object_hook=decode_who)\n",
    "print(type(new_man))\n",
    "print(new_man.__dict__)"
   ]
  },
  {
   "cell_type": "code",
   "execution_count": null,
   "id": "0d82af2f-7c27-4b5c-a8c4-2f658c7b85d1",
   "metadata": {},
   "outputs": [],
   "source": [
    "class MyDecoder(json.JSONDecoder):\n",
    "    def __init__(self):\n",
    "        json.JSONDecoder.__init__(self, object_hook=self.decode_who)\n",
    "\n",
    "    def decode_who(self, d):\n",
    "        return Who(**d)"
   ]
  },
  {
   "cell_type": "code",
   "execution_count": 18,
   "id": "ba4a05cf-cd16-4c64-a501-fce1ecd4f9d3",
   "metadata": {},
   "outputs": [
    {
     "name": "stdout",
     "output_type": "stream",
     "text": [
      "{\"name\": \"John Doe\", \"age\": 42}\n"
     ]
    }
   ],
   "source": [
    "#Rewrite default method using the JSON encoder class\n",
    "class MyEncoder(json.JSONEncoder):\n",
    "    def default(self, w):\n",
    "        if isinstance(w, Who):\n",
    "            return w.__dict__\n",
    "        else:\n",
    "            return super().default(self)\n",
    "\n",
    "some_man = Who('John Doe', 42)\n",
    "print(json.dumps(some_man, cls=MyEncoder))"
   ]
  },
  {
   "cell_type": "code",
   "execution_count": 19,
   "id": "682f37ac-fd25-456a-b0f9-46e976bf40ee",
   "metadata": {},
   "outputs": [
    {
     "name": "stdout",
     "output_type": "stream",
     "text": [
      "<class 'str'>\n",
      "\"The Meaning of Life\" by Monty Python's Flying Circus\n"
     ]
    }
   ],
   "source": [
    "#Loads is the opposite of dumps\n",
    "\n",
    "jstr = '\"\\\\\"The Meaning of Life\\\\\" by Monty Python\\'s Flying Circus\"'\n",
    "comics = json.loads(jstr)\n",
    "print(type(comics))\n",
    "print(comics)"
   ]
  },
  {
   "cell_type": "code",
   "execution_count": null,
   "id": "a16e5a9f-8b8b-42bc-ac54-c4861ddcde1f",
   "metadata": {},
   "outputs": [],
   "source": []
  }
 ],
 "metadata": {
  "kernelspec": {
   "display_name": "Python 3 (ipykernel)",
   "language": "python",
   "name": "python3"
  },
  "language_info": {
   "codemirror_mode": {
    "name": "ipython",
    "version": 3
   },
   "file_extension": ".py",
   "mimetype": "text/x-python",
   "name": "python",
   "nbconvert_exporter": "python",
   "pygments_lexer": "ipython3",
   "version": "3.8.13"
  }
 },
 "nbformat": 4,
 "nbformat_minor": 5
}
