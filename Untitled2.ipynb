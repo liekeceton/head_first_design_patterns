{
 "cells": [
  {
   "cell_type": "markdown",
   "id": "caa387b3-2af5-46c8-b309-c2d504abe4c5",
   "metadata": {},
   "source": [
    "### **Date**"
   ]
  },
  {
   "cell_type": "code",
   "execution_count": 16,
   "id": "dba54623-5015-4dc6-b5d7-577273bcd6cf",
   "metadata": {},
   "outputs": [],
   "source": [
    "from datetime import date, time\n",
    "import time as time1"
   ]
  },
  {
   "cell_type": "code",
   "execution_count": 17,
   "id": "bcdac0a2-a46c-4c4b-9b36-41d1fdd1f2a6",
   "metadata": {},
   "outputs": [
    {
     "name": "stdout",
     "output_type": "stream",
     "text": [
      "2020\n",
      "0\n",
      "1\n"
     ]
    }
   ],
   "source": [
    "x = date.today()\n",
    "x = x.replace(year=2020)\n",
    "print(x.year)\n",
    "print(x.weekday())\n",
    "print(x.isoweekday())"
   ]
  },
  {
   "cell_type": "code",
   "execution_count": 18,
   "id": "9e5e31a6-4b1c-455c-8b03-98ace5bf30f4",
   "metadata": {},
   "outputs": [
    {
     "data": {
      "text/plain": [
       "datetime.date(2023, 2, 10)"
      ]
     },
     "execution_count": 18,
     "metadata": {},
     "output_type": "execute_result"
    }
   ],
   "source": [
    "date.fromtimestamp(time1.time())"
   ]
  },
  {
   "cell_type": "code",
   "execution_count": 19,
   "id": "cca1c486-992e-4822-9981-550beac91cc8",
   "metadata": {},
   "outputs": [
    {
     "data": {
      "text/plain": [
       "datetime.date(2020, 4, 13)"
      ]
     },
     "execution_count": 19,
     "metadata": {},
     "output_type": "execute_result"
    }
   ],
   "source": [
    "date.fromisoformat('2020-04-13')"
   ]
  },
  {
   "cell_type": "code",
   "execution_count": 24,
   "id": "85841eb8-b2d5-4afe-ae9f-7f451ea625b5",
   "metadata": {},
   "outputs": [
    {
     "name": "stdout",
     "output_type": "stream",
     "text": [
      "hi\n",
      "how are you?\n"
     ]
    }
   ],
   "source": [
    "print('hi')\n",
    "time1.sleep(3)\n",
    "print('how are you?')"
   ]
  },
  {
   "cell_type": "code",
   "execution_count": 25,
   "id": "0c753eac-7fa4-4e7c-a44d-b1bd260abd32",
   "metadata": {},
   "outputs": [
    {
     "data": {
      "text/plain": [
       "'Fri Feb 10 17:44:52 2023'"
      ]
     },
     "execution_count": 25,
     "metadata": {},
     "output_type": "execute_result"
    }
   ],
   "source": [
    "time1.ctime()"
   ]
  },
  {
   "cell_type": "code",
   "execution_count": 27,
   "id": "cf8f2952-cddd-40c9-bfbe-7d429656850c",
   "metadata": {},
   "outputs": [
    {
     "name": "stdout",
     "output_type": "stream",
     "text": [
      "time.struct_time(tm_year=2023, tm_mon=2, tm_mday=10, tm_hour=16, tm_min=46, tm_sec=44, tm_wday=4, tm_yday=41, tm_isdst=0)\n",
      "time.struct_time(tm_year=2023, tm_mon=2, tm_mday=10, tm_hour=17, tm_min=46, tm_sec=44, tm_wday=4, tm_yday=41, tm_isdst=0)\n"
     ]
    }
   ],
   "source": [
    "print(time1.gmtime())\n",
    "print(time1.localtime())"
   ]
  },
  {
   "cell_type": "code",
   "execution_count": null,
   "id": "07707d70-bd7c-4824-a24a-60dcaccf574f",
   "metadata": {},
   "outputs": [],
   "source": []
  }
 ],
 "metadata": {
  "kernelspec": {
   "display_name": "Python 3 (ipykernel)",
   "language": "python",
   "name": "python3"
  },
  "language_info": {
   "codemirror_mode": {
    "name": "ipython",
    "version": 3
   },
   "file_extension": ".py",
   "mimetype": "text/x-python",
   "name": "python",
   "nbconvert_exporter": "python",
   "pygments_lexer": "ipython3",
   "version": "3.8.13"
  }
 },
 "nbformat": 4,
 "nbformat_minor": 5
}
